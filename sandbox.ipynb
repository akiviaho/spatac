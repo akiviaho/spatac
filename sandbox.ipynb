{
 "cells": [
  {
   "cell_type": "code",
   "execution_count": 1,
   "id": "951f7959",
   "metadata": {},
   "outputs": [],
   "source": [
    "import os \n",
    "from itertools import chain\n",
    "import time\n",
    "\n",
    "\n",
    "import anndata as ad\n",
    "import itertools\n",
    "import pandas as pd\n",
    "import scanpy as sc\n",
    "import seaborn as sns\n",
    "import matplotlib.pyplot as plt\n",
    "from matplotlib import rcParams\n",
    "import numpy as np\n",
    "import scglue\n",
    "import networkx as nx\n",
    "import scipy\n",
    "\n",
    "os.chdir('/lustre/scratch/kiviaho/spatac/')\n",
    "\n",
    "date = 20220926\n",
    "sp_data_folder ='synthetic-spatial/'"
   ]
  },
  {
   "cell_type": "code",
   "execution_count": null,
   "id": "52320511",
   "metadata": {},
   "outputs": [],
   "source": [
    "# Highly variable genes have been determined in GLUE preprocessing (PCA,LSI)\n",
    "# HVG labels have been transferred from RNA data to ATAC data by overlap with the gene region.\n",
    "# The decoder only decodes these genes onto the new domain\n",
    "\n",
    "# Download one spatial experiment\n",
    "experiment = 'exper0'\n",
    "\n",
    "scglue_model = scglue.models.load_model('glue-results/glue-model-shareseq-synthetic-'+experiment+'.dill')\n",
    "scglue_model.compile()\n",
    "graph = nx.read_graphml('glue-results/synthetic-spatial-shareseq-guidance-hvf-'+experiment+'.graphml.gz')\n",
    "\n",
    "shareseq_atac = ad.read_h5ad('data/preprocessed_shareseq_atac_data.h5ad')\n",
    "synthetic_spatial_atac_data = ad.read_h5ad('synthetic-spatial/synth_spatial_atac_data_from_cell_counts_20220915_sparse.h5ad')\n",
    "synthetic_spatial_rna_data = ad.read_h5ad('glue-results/rna-synthetic-spatial-shareseq-'+experiment+'-with-glue-embeddings.h5ad')\n",
    "\n",
    "if synthetic_spatial_atac_data.var.equals(shareseq_atac.var.drop(columns=['highly_variable','chromStart'])):\n",
    "    synthetic_spatial_atac_data.var['highly_variable'] = shareseq_atac.var['highly_variable']\n",
    "    \n",
    "spatial_atac_ground_truth = synthetic_spatial_atac_data[synthetic_spatial_atac_data.obs.index.str.contains(experiment)]\n",
    "spatial_atac_ground_truth = spatial_atac_ground_truth[:,spatial_atac_ground_truth.var['highly_variable']==True]\n",
    "sp_atac_gt_np = spatial_atac_ground_truth.X.toarray()\n",
    "avg_cells_per_location = np.mean(spatial_atac_ground_truth.obs.sum(axis=1))\n",
    "\n",
    "    "
   ]
  },
  {
   "cell_type": "code",
   "execution_count": 2,
   "id": "923b33e9",
   "metadata": {},
   "outputs": [
    {
     "name": "stdout",
     "output_type": "stream",
     "text": [
      "[INFO] autodevice: Using CPU as computation device.\n"
     ]
    }
   ],
   "source": [
    "# Download all spatial experiments\n",
    "\n",
    "scglue_model = scglue.models.load_model('glue-results/glue-model-shareseq-synthetic-all_experiments.dill')\n",
    "scglue_model.compile()\n",
    "graph = nx.read_graphml('glue-results/synthetic-spatial-shareseq-guidance-hvf-all_experiments.graphml.gz')\n",
    "\n",
    "shareseq_atac = ad.read_h5ad('data/preprocessed_shareseq_atac_data.h5ad')\n",
    "synthetic_spatial_atac_data = ad.read_h5ad('synthetic-spatial/synth_spatial_atac_data_from_cell_counts_20220915_sparse.h5ad')\n",
    "synthetic_spatial_rna_data = ad.read_h5ad('glue-results/rna-synthetic-spatial-shareseq-all_experiments-with-glue-embeddings.h5ad')\n",
    "\n",
    "\n",
    "if synthetic_spatial_atac_data.var.equals(shareseq_atac.var.drop(columns=['highly_variable','chromStart'])):\n",
    "    synthetic_spatial_atac_data.var['highly_variable'] = shareseq_atac.var['highly_variable']\n",
    "    \n",
    "spatial_atac_ground_truth = synthetic_spatial_atac_data[:,synthetic_spatial_atac_data.var['highly_variable']==True]\n",
    "sp_atac_gt_np = spatial_atac_ground_truth.X.toarray()\n",
    "\n",
    "    "
   ]
  },
  {
   "cell_type": "code",
   "execution_count": 3,
   "id": "6fc8f70e",
   "metadata": {},
   "outputs": [],
   "source": [
    "# We use a pretrained model to decode Spatial RNA expression into Spatial ATAC data\n",
    "decoded_atac = scglue_model.decode_data(source_key='rna',target_key='atac',adata=synthetic_spatial_rna_data,graph=graph)\n"
   ]
  },
  {
   "cell_type": "code",
   "execution_count": 4,
   "id": "08d9572d",
   "metadata": {},
   "outputs": [],
   "source": [
    "coef = np.sqrt(sp_atac_gt_np.var()/decoded_atac.var())\n",
    "\n",
    "# coef = sp_atac_gt_np.mean()/decoded_atac.mean() # This is not sufficient scaling\n",
    "#coef = sp_atac_gt_np.mean()/decoded_atac.mean() * avg_cells_per_location # This scales it too far"
   ]
  },
  {
   "cell_type": "code",
   "execution_count": 5,
   "id": "8aa89925",
   "metadata": {},
   "outputs": [],
   "source": [
    "test = decoded_atac*coef\n",
    "test = test.astype(int)"
   ]
  },
  {
   "cell_type": "code",
   "execution_count": 6,
   "id": "4cb7778b",
   "metadata": {},
   "outputs": [
    {
     "data": {
      "image/png": "[encoded data removed]",
      "text/plain": [
       "<Figure size 432x288 with 1 Axes>"
      ]
     },
     "metadata": {
      "needs_background": "light"
     },
     "output_type": "display_data"
    }
   ],
   "source": [
    "sns.histplot(sp_atac_gt_np[np.random.choice(sp_atac_gt_np.shape[0],1000),:].flatten().astype(int))\n",
    "plt.yscale('log')"
   ]
  },
  {
   "cell_type": "code",
   "execution_count": 7,
   "id": "9610f81c",
   "metadata": {},
   "outputs": [
    {
     "data": {
      "image/png": "[encoded data removed]",
      "text/plain": [
       "<Figure size 432x288 with 1 Axes>"
      ]
     },
     "metadata": {
      "needs_background": "light"
     },
     "output_type": "display_data"
    }
   ],
   "source": [
    "sns.histplot(test[np.random.choice(test.shape[0],1000),:].flatten().astype(int))\n",
    "plt.yscale('log')"
   ]
  },
  {
   "cell_type": "code",
   "execution_count": null,
   "id": "09c3ade6",
   "metadata": {},
   "outputs": [],
   "source": []
  },
  {
   "cell_type": "code",
   "execution_count": null,
   "id": "8f6ba405",
   "metadata": {},
   "outputs": [],
   "source": []
  },
  {
   "cell_type": "code",
   "execution_count": null,
   "id": "5c0d0c9d",
   "metadata": {},
   "outputs": [],
   "source": []
  },
  {
   "cell_type": "code",
   "execution_count": null,
   "id": "8bfde379",
   "metadata": {},
   "outputs": [],
   "source": []
  },
  {
   "cell_type": "code",
   "execution_count": 123,
   "id": "d7f6ba96",
   "metadata": {},
   "outputs": [
    {
     "data": {
      "text/plain": [
       "(0.1732406069271629, 6.289605212140217e-200)"
      ]
     },
     "execution_count": 123,
     "metadata": {},
     "output_type": "execute_result"
    }
   ],
   "source": [
    "# Everything correlates with everything\n",
    "scipy.stats.pearsonr(sp_atac_gt_np[20],test[3])"
   ]
  },
  {
   "cell_type": "code",
   "execution_count": 156,
   "id": "9d769879",
   "metadata": {},
   "outputs": [
    {
     "data": {
      "text/plain": [
       "0.9903578961465064"
      ]
     },
     "execution_count": 156,
     "metadata": {},
     "output_type": "execute_result"
    }
   ],
   "source": [
    "i = 2352\n",
    "len(test[i][test[i] == 0])/len(test[i])"
   ]
  },
  {
   "cell_type": "code",
   "execution_count": 154,
   "id": "d4accd12",
   "metadata": {},
   "outputs": [
    {
     "data": {
      "text/plain": [
       "0.9791422545113663"
      ]
     },
     "execution_count": 154,
     "metadata": {},
     "output_type": "execute_result"
    }
   ],
   "source": [
    "len(sp_atac_gt_np[i][sp_atac_gt_np[i] == 0])/len(sp_atac_gt_np[i])"
   ]
  },
  {
   "cell_type": "code",
   "execution_count": null,
   "id": "fabf54c2",
   "metadata": {},
   "outputs": [],
   "source": []
  },
  {
   "cell_type": "code",
   "execution_count": null,
   "id": "eb12c3c9",
   "metadata": {},
   "outputs": [],
   "source": []
  },
  {
   "cell_type": "code",
   "execution_count": null,
   "id": "0179f064",
   "metadata": {},
   "outputs": [],
   "source": [
    "synthetic_spatial_atac_data.X"
   ]
  },
  {
   "cell_type": "code",
   "execution_count": null,
   "id": "69d9cadd",
   "metadata": {},
   "outputs": [],
   "source": [
    "peak_sums = np.asarray(np.sum(synthetic_spatial_atac_data.X,axis=1)).flatten()\n",
    "sns.histplot(x=peak_sums,binwidth=500)\n",
    "plt.axvline(x=np.mean(peak_sums),color='r',linestyle='--')"
   ]
  },
  {
   "cell_type": "code",
   "execution_count": null,
   "id": "d9482bf2",
   "metadata": {},
   "outputs": [],
   "source": []
  },
  {
   "cell_type": "code",
   "execution_count": null,
   "id": "e2b67350",
   "metadata": {},
   "outputs": [],
   "source": []
  },
  {
   "cell_type": "code",
   "execution_count": null,
   "id": "43a07441",
   "metadata": {},
   "outputs": [],
   "source": [
    "synthetic_cell_counts = pd.read_csv('synthetic-spatial/cell_count_df_20220914.csv',index_col=0)\n",
    "synthetic_cell_counts = synthetic_cell_counts.astype(np.int16)\n"
   ]
  },
  {
   "cell_type": "code",
   "execution_count": null,
   "id": "e5b8ad59",
   "metadata": {},
   "outputs": [],
   "source": [
    "atac = ad.read_h5ad('data/share-seq/mouse-brain/share-seq-mouse-brain-atac-data.h5ad')"
   ]
  },
  {
   "cell_type": "code",
   "execution_count": null,
   "id": "55993908",
   "metadata": {},
   "outputs": [],
   "source": [
    "n_elements = np.multiply(atac.X.shape[0],atac.X.shape[1])\n",
    "n_non_zero_entries = len(atac.X.data)\n",
    "n_zeros = n_elements-n_non_zero_entries\n",
    "print('{:.3%} non-zero entries'.format(n_non_zero_entries/n_elements))"
   ]
  },
  {
   "cell_type": "code",
   "execution_count": null,
   "id": "0ad2d2fc",
   "metadata": {},
   "outputs": [],
   "source": [
    "sns.histplot(np.array(atac.X.data),binwidth=1)\n",
    "plt.yscale('log')"
   ]
  },
  {
   "cell_type": "code",
   "execution_count": null,
   "id": "e210ee8d",
   "metadata": {},
   "outputs": [],
   "source": [
    "start = time.time()\n",
    "\n",
    "spots_by_peaks = np.empty((len(synthetic_cell_counts),len(atac.var)),dtype=np.int16)\n",
    "celltypes = synthetic_cell_counts.columns\n",
    "for row_idx, row in synthetic_cell_counts.reset_index(drop=True).iterrows():\n",
    "    select_indices = np.empty((0))\n",
    "\n",
    "    for col_idx,cell_count in enumerate(row): # Iterates over columns in each row\n",
    "        celltype = celltypes[col_idx]\n",
    "        celltype_indices = np.where(atac.obs.celltype==celltype)[0] # Finds ATAC data with cell types\n",
    "\n",
    "        # Random select from matching indices according to number of cells present\n",
    "        select_indices = np.append(select_indices,np.random.choice(celltype_indices,cell_count)) \n",
    "\n",
    "    # Subsets ATAC by selected index and produces a sum of those cells' peaks, appends to \n",
    "    # correct synthetic spot\n",
    "    spots_by_peaks[row_idx,:] = np.sum(atac.X[select_indices,:].toarray(),axis=0,dtype=np.int16)\n",
    "\n",
    "elapsed = time.time()-start"
   ]
  },
  {
   "cell_type": "code",
   "execution_count": null,
   "id": "7fa7cdef",
   "metadata": {},
   "outputs": [],
   "source": [
    "synthetic_spatial_atac_data = ad.AnnData(X=sparse.csr_matrix(spots_by_peaks),\n",
    "                                  obs=synthetic_cell_counts,\n",
    "                                  var=atac.var)"
   ]
  },
  {
   "cell_type": "code",
   "execution_count": null,
   "id": "ef785cae",
   "metadata": {},
   "outputs": [],
   "source": [
    "synthetic_spatial_atac_data.write(f'{sp_data_folder}synth_spatial_atac_data_from_cell_counts_{date}_sparse.h5ad')"
   ]
  },
  {
   "cell_type": "code",
   "execution_count": null,
   "id": "618b1e59",
   "metadata": {},
   "outputs": [],
   "source": [
    "# DO THIS\n",
    "# For experiment_location (spot):\n",
    "    # For each cell type:\n",
    "        # Sample a number of peak profiles matching the nunmber of cells present\n",
    "        # Add sampled peak profiles to the aggregate peak profile\n",
    "# Results in a spot by peak matrix, where the number of peaks are \"unbiased\" --> Add noise / sampling error?"
   ]
  },
  {
   "cell_type": "code",
   "execution_count": null,
   "id": "2ccf8f79",
   "metadata": {},
   "outputs": [],
   "source": [
    "subset_size = [10,20,40,80,160,320,640,1280,2560]\n",
    "elapsed_time = []"
   ]
  },
  {
   "cell_type": "code",
   "execution_count": null,
   "id": "b410c0c2",
   "metadata": {},
   "outputs": [],
   "source": [
    "for size in subset_size:\n",
    "    synthetic_cell_counts = pd.read_csv('synthetic-spatial/cell_count_df_20220914.csv',index_col=0)\n",
    "    synthetic_cell_counts = synthetic_cell_counts.astype(np.int16)\n",
    "\n",
    "    synthetic_cell_counts = synthetic_cell_counts.sample(size)\n",
    "\n",
    "    start = time.time()\n",
    "    \n",
    "    spots_by_peaks = np.empty((len(synthetic_cell_counts),len(atac.var)),dtype=np.int16)\n",
    "    celltypes = synthetic_cell_counts.columns\n",
    "    for row_idx, row in synthetic_cell_counts.reset_index(drop=True).iterrows():\n",
    "        select_indices = np.empty((0))\n",
    "        \n",
    "        for col_idx,cell_count in enumerate(row): # Iterates over columns in each row\n",
    "            celltype = celltypes[col_idx]\n",
    "            celltype_indices = np.where(atac.obs.celltype==celltype)[0] # Finds ATAC data with cell types\n",
    "            \n",
    "            # Random select from matching indices according to number of cells present\n",
    "            select_indices = np.append(select_indices,np.random.choice(celltype_indices,cell_count)) \n",
    "\n",
    "        # Subsets ATAC by selected index and produces a sum of those cells' peaks, appends to \n",
    "        # correct synthetic spot\n",
    "        spots_by_peaks[row_idx,:] = np.sum(atac.X[select_indices,:].toarray(),axis=0,dtype=np.int16)\n",
    "            \n",
    "    elapsed = time.time()-start\n",
    "    print(size,elapsed)\n",
    "    elapsed_time.append(elapsed)"
   ]
  },
  {
   "cell_type": "code",
   "execution_count": null,
   "id": "c5c924eb",
   "metadata": {},
   "outputs": [],
   "source": [
    "celltype_atac_data = atac[atac.obs.celltype=='IN01',:]\n",
    "rand_cells = np.random.randint(0,len(celltype_atac_data)-1,2)\n",
    "arr = celltype_atac_data.X[rand_cells,:].toarray()"
   ]
  },
  {
   "cell_type": "code",
   "execution_count": null,
   "id": "9c9b71b9",
   "metadata": {},
   "outputs": [],
   "source": [
    "# This works in O(n), but all data takes 5min!\n",
    "spots_by_peaks = np.empty((len(synthetic_cell_counts),len(atac.var)),dtype=np.int16)\n",
    "celltypes = synthetic_cell_counts.columns\n",
    "for row_idx, row in synthetic_cell_counts.reset_index(drop=True).iterrows():\n",
    "    select_indices = np.empty((0))\n",
    "\n",
    "    for col_idx,cell_count in enumerate(row): # Iterates over columns in each row\n",
    "        celltype = celltypes[col_idx]\n",
    "        celltype_indices = np.where(atac.obs.celltype==celltype)[0] # Finds ATAC data with cell types\n",
    "\n",
    "        # Random select from matching indices according to number of cells present\n",
    "        select_indices = np.append(select_indices,np.random.choice(celltype_indices,cell_count)) \n",
    "\n",
    "    # Subsets ATAC by selected index and produces a sum of those cells' peaks, appends to \n",
    "    # correct synthetic spot\n",
    "    spots_by_peaks[row_idx,:] = np.sum(atac.X[select_indices,:].toarray(),axis=0,dtype=np.int16)\n"
   ]
  },
  {
   "cell_type": "code",
   "execution_count": null,
   "id": "78106321",
   "metadata": {},
   "outputs": [],
   "source": [
    "# This works in O(n). All data would take approx 100min\n",
    "spots_by_peaks = np.empty((len(synthetic_cell_counts),len(atac.var)),dtype=np.int16)\n",
    "celltypes = synthetic_cell_counts.columns\n",
    "for row_idx, row in synthetic_cell_counts.reset_index(drop=True).iterrows():\n",
    "    for col_idx,cell_count in enumerate(row): # Iterates over columns in each row.\n",
    "        celltype = celltypes[col_idx]\n",
    "        celltype_atac_data = atac[atac.obs.celltype==celltype,:]\n",
    "        rand_cells = np.random.randint(0,len(celltype_atac_data)-1,int(cell_count))\n",
    "        celltype_peak_sum = np.sum(celltype_atac_data.X[rand_cells,:].toarray(),axis=0,dtype=np.int16)\n",
    "        spots_by_peaks[row_idx,:] += celltype_peak_sum "
   ]
  },
  {
   "cell_type": "markdown",
   "id": "f8464b0b",
   "metadata": {},
   "source": [
    "OLD RESULTS:\n",
    "10 2.2522997856140137\n",
    "20 4.495478391647339\n",
    "40 8.95855975151062\n",
    "80 17.915918827056885\n",
    "160 35.7022819519043\n",
    "320 71.20343470573425\n",
    "640 142.50398230552673\n",
    "1280 285.6274080276489"
   ]
  },
  {
   "cell_type": "code",
   "execution_count": null,
   "id": "d8b86e68",
   "metadata": {},
   "outputs": [],
   "source": [
    "synthetic_cell_counts"
   ]
  },
  {
   "cell_type": "code",
   "execution_count": null,
   "id": "4df92f64",
   "metadata": {},
   "outputs": [],
   "source": [
    "synthetic_spatial = ad.read_h5ad('synthetic-spatial/synth_adata_real_mg_20220914.h5ad')"
   ]
  },
  {
   "cell_type": "code",
   "execution_count": null,
   "id": "81c0914a",
   "metadata": {},
   "outputs": [],
   "source": [
    "synthetic_spatial"
   ]
  },
  {
   "cell_type": "code",
   "execution_count": null,
   "id": "c532e5be",
   "metadata": {},
   "outputs": [],
   "source": [
    "synthetic_spatial.obs"
   ]
  },
  {
   "cell_type": "code",
   "execution_count": null,
   "id": "19f3aeaa",
   "metadata": {},
   "outputs": [],
   "source": []
  },
  {
   "cell_type": "code",
   "execution_count": null,
   "id": "e8b10ba2",
   "metadata": {},
   "outputs": [],
   "source": []
  },
  {
   "cell_type": "code",
   "execution_count": null,
   "id": "2ae1861a",
   "metadata": {},
   "outputs": [],
   "source": []
  },
  {
   "cell_type": "code",
   "execution_count": null,
   "id": "f088b879",
   "metadata": {},
   "outputs": [],
   "source": []
  },
  {
   "cell_type": "code",
   "execution_count": null,
   "id": "b86e3b3b",
   "metadata": {},
   "outputs": [],
   "source": [
    "# Load SHARE-seq data\n",
    "rna = ad.read_h5ad('data/share-seq/mouse-brain/share-seq-mouse-brain-rna-data.h5ad')\n",
    "atac = ad.read_h5ad('data/share-seq/mouse-brain/share-seq-mouse-brain-atac-data.h5ad')\n",
    "\n",
    "# Filter out unannotated & no ATAC data containing cells:\n",
    "rna = rna[rna.obs['Barcode'].isin(atac.obs['rna.bc'])]\n",
    "merged_obs = pd.merge(rna.obs['Barcode'],atac.obs,how='inner',left_on='Barcode',right_on='rna.bc')\n",
    "merged_obs.index = pd.Index(merged_obs.index,dtype='str')\n",
    "if all(rna.obs['Barcode'].reset_index(drop=True) == merged_obs['Barcode'].reset_index(drop=True)):\n",
    "    rna.obs = merged_obs\n",
    "\n",
    "rna.var_names = rna.var['Gene']\n",
    "del atac\n"
   ]
  },
  {
   "cell_type": "code",
   "execution_count": null,
   "id": "9d31e8ce",
   "metadata": {},
   "outputs": [],
   "source": [
    "rna.obs.celltype"
   ]
  },
  {
   "cell_type": "code",
   "execution_count": null,
   "id": "7fa0b62b",
   "metadata": {},
   "outputs": [],
   "source": [
    "adata = sc.read_10x_h5('data/multiome10x/mouse-brain/e18_mouse_brain_fresh_5k_filtered_feature_bc_matrix.h5')\n",
    "adata"
   ]
  },
  {
   "cell_type": "code",
   "execution_count": null,
   "id": "837063b7",
   "metadata": {},
   "outputs": [],
   "source": [
    "sc.pp.filter_cells(adata, min_genes=200)\n",
    "sc.pp.filter_genes(adata, min_cells=5)"
   ]
  },
  {
   "cell_type": "code",
   "execution_count": null,
   "id": "2d1fb8b5",
   "metadata": {},
   "outputs": [],
   "source": [
    "# Scanpy standard preprocessing\n",
    "sc.pp.normalize_total(adata, target_sum=1e4)\n",
    "sc.pp.log1p(adata)\n",
    "adata.var_names_make_unique()\n",
    "adata.raw = adata\n",
    "sc.pp.highly_variable_genes(adata, min_mean=0.0125, max_mean=3, min_disp=0.5)\n",
    "adata = adata[:, adata.var.highly_variable]\n",
    "sc.pp.scale(adata, max_value=10)"
   ]
  },
  {
   "cell_type": "code",
   "execution_count": null,
   "id": "ec19affd",
   "metadata": {},
   "outputs": [],
   "source": [
    "sc.tl.pca(adata, svd_solver='arpack')"
   ]
  },
  {
   "cell_type": "code",
   "execution_count": null,
   "id": "d63e7683",
   "metadata": {},
   "outputs": [],
   "source": [
    "sc.pp.neighbors(adata, n_neighbors=10, n_pcs=40)"
   ]
  },
  {
   "cell_type": "code",
   "execution_count": null,
   "id": "3a8d4c40",
   "metadata": {},
   "outputs": [],
   "source": [
    "sc.tl.umap(adata)\n",
    "sc.tl.leiden(adata)\n"
   ]
  },
  {
   "cell_type": "code",
   "execution_count": null,
   "id": "38fbd776",
   "metadata": {},
   "outputs": [],
   "source": [
    "from matplotlib.pyplot import rc_context\n",
    "with rc_context({'figure.figsize': (10, 10)}):\n",
    "    sc.pl.umap(adata, color='leiden', add_outline=True, legend_loc='on data',\n",
    "               legend_fontsize=12, legend_fontoutline=2,frameon=False,\n",
    "               title='clustering of cells')"
   ]
  },
  {
   "cell_type": "code",
   "execution_count": null,
   "id": "bc805f97",
   "metadata": {},
   "outputs": [],
   "source": [
    "adata.obs.leiden.value_counts()"
   ]
  },
  {
   "cell_type": "code",
   "execution_count": null,
   "id": "bddacfd2",
   "metadata": {},
   "outputs": [],
   "source": [
    "\n",
    "c2l_marker_genes_dict = {'Excitatory|Claustrum':['Nr4a2','Synpr'],\n",
    "                         'Excitatory|Amygdala':['Lypd1','Kcng1','C1ql3'],\n",
    "                         'Excitatory|hippocampus CA1':['Rprml','Wipf3','Neurod6'],\n",
    "                         'Excitatory|hippocampus CA3':['Nr4a3','Nptx1','Rnf182'],\n",
    "                         'Excitatory|thalamus':['Synpo2','Ptpn3','Slc17a6'],\n",
    "                         'Excitatory|hypothalamus':['Prkch','Ramp3'], # Remove 'Shox2'\n",
    "                         'Excitatory|cortex':['Sox5','Htr2c','Kcnk2','Dkk3','Rorb','Foxp3','Bcl11b','Cux2','Thsd7a','Cux1'],\n",
    "                         'Inhibitory|habenula':['Nwd2','Lrrc55','Syt9'],\n",
    "                         'Inhibitory|cortex/hippocampus':['Lamp5','Dlx6os1','Kcnip1','Sst','Vwc2'], # Removed 'Pvalb','Vip' from these\n",
    "                         'Inhibitory|striatum':['Drd1','Rgs9','Nexn'],\n",
    "                         'Inhibitory|thalamus':['Esrrg','Nova1','Scg2','Fign','Syt2','Tmem130'],\n",
    "                         'Microglia':['Ptprc'],\n",
    "                         'Neuroblasts':['Sox2','Dcx','Pax6'],\n",
    "                         'Oligodendrocytes':['Mog','Cnksr3','Plp1'],\n",
    "                         'OPCs':['Bmp4','Pdgfra'],\n",
    "                         'Astrocytes':['Aldoc','Slc1a3','Hepacam']}\n",
    "\n",
    "sc.pl.dotplot(adata,c2l_marker_genes_dict,groupby=['leiden'],dendrogram=True,use_raw=True,figsize=(16,10),standard_scale='var')\n"
   ]
  },
  {
   "cell_type": "code",
   "execution_count": null,
   "id": "6cbfa985",
   "metadata": {},
   "outputs": [],
   "source": []
  },
  {
   "cell_type": "code",
   "execution_count": null,
   "id": "801172bd",
   "metadata": {},
   "outputs": [],
   "source": []
  },
  {
   "cell_type": "code",
   "execution_count": null,
   "id": "8b92fdd2",
   "metadata": {},
   "outputs": [],
   "source": [
    "# Add existing clusters\n",
    "rna_10x_clusters = pd.read_csv('/lustre/scratch/kiviaho/spatac/data/multiome10x/mouse-brain/analysis/clustering/gex/graphclust/clusters.csv')\n",
    "if all(rna_10x_labels['Barcode'] == rna_10x_multiome.obs.index):\n",
    "    rna_10x_multiome.obs['Cluster'] = np.array(rna_10x_clusters['Cluster'],dtype='str')\n",
    "rna_10x_multiome.var_names_make_unique()"
   ]
  },
  {
   "cell_type": "code",
   "execution_count": null,
   "id": "b6a67cb3",
   "metadata": {},
   "outputs": [],
   "source": [
    "\n",
    "c2l_marker_genes_dict = {'Excitatory|Claustrum':['Nr4a2','Synpr'],\n",
    "                         'Excitatory|Amygdala':['Lypd1','Kcng1','C1ql3'],\n",
    "                         'Excitatory|hippocampus CA1':['Rprml','Wipf3','Neurod6'],\n",
    "                         'Excitatory|hippocampus CA3':['Nr4a3','Nptx1','Rnf182'],\n",
    "                         'Excitatory|thalamus':['Synpo2','Ptpn3','Slc17a6'],\n",
    "                         'Excitatory|hypothalamus':['Prkch','Ramp3','Shox2'],\n",
    "                         'Excitatory|cortex':['Sox5','Htr2c','Kcnk2','Dkk3','Rorb','Foxp3','Bcl11b','Cux2','Thsd7a','Cux1'],\n",
    "                         'Inhibitory|habenula':['Nwd2','Lrrc55','Syt9'],\n",
    "                         'Inhibitory|cortex/hippocampus':['Pvalb','Vip','Lamp5','Dlx6os1','Kcnip1','Sst','Vwc2'],\n",
    "                         'Inhibitory|striatum':['Drd1','Rgs9','Nexn'],\n",
    "                         'Inhibitory|thalamus':['Esrrg','Nova1','Scg2','Fign','Syt2','Tmem130'],\n",
    "                         'Microglia':['Ptprc'],\n",
    "                         'Neuroblasts':['Sox2','Dcx','Pax6'],\n",
    "                         'Oligodendrocytes':['Mog','Cnksr3','Plp1'],\n",
    "                         'OPCs':['Bmp4','Pdgfra'],\n",
    "                         'Astrocytes':['Aldoc','Slc1a3','Hepacam']}\n",
    "\n",
    "sc.pl.dotplot(rna_10x_multiome,c2l_marker_genes_dict,groupby=['Cluster'],dendrogram=True,figsize=(16,10),standard_scale='var')\n"
   ]
  },
  {
   "cell_type": "code",
   "execution_count": null,
   "id": "9cdf2b6f",
   "metadata": {},
   "outputs": [],
   "source": []
  },
  {
   "cell_type": "code",
   "execution_count": null,
   "id": "ce59ebb4",
   "metadata": {},
   "outputs": [],
   "source": [
    "### FUNCTIONS ####\n",
    "def read_atac_10x(path):\n",
    "    '''\n",
    "    Reads ATAC data from standard 10X pipeline output into AnnData format\n",
    "    '''\n",
    "    atac = ad.read_mtx(path + 'matrix.mtx')\n",
    "    atac = atac.transpose()\n",
    "    barcodes = pd.read_csv(path + 'barcodes.tsv',sep='\\t',header=None)\n",
    "    atac.obs = barcodes.rename(columns={0:'barcode'})\n",
    "    peaks = pd.read_csv(path + 'peaks.bed',sep='\\t',header=None)\n",
    "    atac.var = peaks.rename(columns={0:'chrom',1:'chromStart',2:'chromEnd'})\n",
    "    return atac"
   ]
  },
  {
   "cell_type": "code",
   "execution_count": null,
   "id": "387bfdf6",
   "metadata": {},
   "outputs": [],
   "source": [
    "# ATAC DATA FORMATTING FOR PEAKS \n",
    "\n",
    "# DOWNLOAD ATAC gene by cell matrix into anndata structure\n",
    "atac_path = 'data/atac/cerebrum-study/'\n",
    "\n",
    "peak_data = ad.read_mtx(atac_path+'aggregate-section-8-peak-matrix.mtx')\n",
    "peaknames = pd.read_csv(atac_path+'peaks-aggregate-section-8-peak-matrix.csv')['x']\n",
    "metadata = pd.read_csv(atac_path+'section-8-metadata.csv')\n",
    "\n",
    "# Extract chrom data from names\n",
    "chroms = [s.split(':')[0] for s in peaknames]\n",
    "chroms_start = [s.split(':')[1].split('-')[0] for s in peaknames]\n",
    "chroms_end = [s.split(':')[1].split('-')[1] for s in peaknames]\n",
    "\n",
    "peak_data.obs = pd.DataFrame({'Barcode':metadata['barcode']})\n",
    "peak_data.var = pd.DataFrame({'chrom':chroms, 'chromStart':chroms_start,'chromEnd':chroms_end})\n",
    "\n",
    "\n",
    "# Read metadata for all the samples \n",
    "files = list((\"CEMBA180426_8B\",\"CEMBA190711_8J\",\"CEMBA180430_8B\",\n",
    "             \"CEMBA190716_8E\",\"CEMBA190711_8E\",\"CEMBA190716_8J\"))\n",
    "\n",
    "all_metadata = pd.read_csv('data/atac/cerebrum-study/CEMBA-metadata.tsv',sep='\\t')\n",
    "metadata_section_8_from_all = all_metadata[all_metadata['Sample'].isin(files)].reset_index(drop=True)\n",
    "\n",
    "# Download cell metadata and filter out non-included samples. \n",
    "\n",
    "# Filter out unannotated barcodes\n",
    "filtered_peak_data = peak_data[peak_data.obs['Barcode'].isin(metadata_section_8_from_all['Barcode']),:]\n",
    "filtered_peak_data.obs = filtered_peak_data.obs.reset_index(drop=True)\n",
    "\n",
    "filtered_peak_data = filtered_peak_data[np.argsort(filtered_peak_data.obs['Barcode']),:]\n",
    "filtered_peak_data.obs = filtered_peak_data.obs.reset_index(drop=True)\n",
    "\n",
    "# Sort all metadata and append to adata\n",
    "filtered_peak_data = filtered_peak_data[np.argsort(filtered_peak_data.obs['Barcode']),:]\n",
    "metadata_section_8_from_all = metadata_section_8_from_all.sort_values(by=['Barcode']).reset_index(drop=True)\n",
    "\n",
    "if all(filtered_peak_data.obs['Barcode'] == metadata_section_8_from_all['Barcode']):\n",
    "    filtered_peak_data.obs = metadata_section_8_from_all\n",
    "    print('Properly sorted and integrated')\n",
    "    \n",
    "# ATAC-seq data in anndata format ready for analyzing\n",
    "\n",
    "filtered_peak_data.write_h5ad(atac_path+'aggregate-section-8-valid-peak-count-data.h5ad')\n"
   ]
  },
  {
   "cell_type": "code",
   "execution_count": null,
   "id": "58ee84b4",
   "metadata": {},
   "outputs": [],
   "source": []
  },
  {
   "cell_type": "code",
   "execution_count": null,
   "id": "334a326e",
   "metadata": {},
   "outputs": [],
   "source": [
    "# ATAC DATA FORMATTING FOR GENES\n",
    "\n",
    "# DOWNLOAD ATAC gene by cell matrix into anndata structure\n",
    "atac_path = 'data/atac/cerebrum-study/'\n",
    "\n",
    "gene = ad.read_mtx(atac_path+'aggregate-section-8-gene-matrix.mtx')\n",
    "genenames = pd.read_csv(atac_path+'genes-aggregate-section-8-gene-matrix.csv')['x']\n",
    "metadata = pd.read_csv(atac_path+'section-8-metadata.csv')\n",
    "\n",
    "gene.obs = pd.DataFrame({'Barcode':metadata['barcode']})\n",
    "gene.var = pd.DataFrame({'Gene':genenames})\n",
    "\n",
    "# Download cell metadata and filter out non-included samples. \n",
    "files = list((\"CEMBA180426_8B\",\"CEMBA190711_8J\",\"CEMBA180430_8B\",\n",
    "             \"CEMBA190716_8E\",\"CEMBA190711_8E\",\"CEMBA190716_8J\"))\n",
    "\n",
    "all_metadata = pd.read_csv('data/atac/cerebrum-study/CEMBA-metadata.tsv',sep='\\t')\n",
    "metadata_section_8_from_all = all_metadata[all_metadata['Sample'].isin(files)].reset_index(drop=True)\n",
    "\n",
    "# Filter out unannotated barcodes\n",
    "filtered_gene = gene[gene.obs['Barcode'].isin(metadata_section_8_from_all['Barcode']),:]\n",
    "filtered_gene.obs = filtered_gene.obs.reset_index(drop=True)\n",
    "\n",
    "filtered_gene = filtered_gene[np.argsort(filtered_gene.obs['Barcode']),:]\n",
    "filtered_gene.obs = filtered_gene.obs.reset_index(drop=True)\n",
    "\n",
    "# Sort all metadata and append to adata\n",
    "filtered_gene = filtered_gene[np.argsort(filtered_gene.obs['Barcode']),:]\n",
    "metadata_section_8_from_all = metadata_section_8_from_all.sort_values(by=['Barcode']).reset_index(drop=True)\n",
    "\n",
    "if all(filtered_gene.obs['Barcode'] == metadata_section_8_from_all['Barcode']):\n",
    "    filtered_gene.obs = metadata_section_8_from_all\n",
    "    print('Properly sorted and integrated')\n",
    "\n",
    "# ATAC-seq data in anndata format ready for analyzing\n",
    "filtered_gene\n",
    "\n",
    "filtered_gene.write_h5ad(atac_path+'aggregate-section-8-valid-cells.h5ad')"
   ]
  },
  {
   "cell_type": "code",
   "execution_count": null,
   "id": "10fba7eb",
   "metadata": {},
   "outputs": [],
   "source": []
  },
  {
   "cell_type": "code",
   "execution_count": null,
   "id": "aabdb79e",
   "metadata": {},
   "outputs": [],
   "source": [
    "# RNA DATA FORMATTING\n",
    "rna_data_path = 'data/rna/cell2location/'\n",
    "samples = ['5705STDY8058280','5705STDY8058281','5705STDY8058282','5705STDY8058283','5705STDY8058284','5705STDY8058285']\n",
    "\n",
    "adata_list = []\n",
    "for sample in samples:\n",
    "    adata = sc.read_10x_h5(rna_data_path + sample+'_filtered_feature_bc_matrix.h5')\n",
    "    adata.obs['Cell ID'] = [sample +'_'+ idx for idx in adata.obs.index]\n",
    "    adata.var_names_make_unique()\n",
    "    adata_list.append(adata)\n",
    "\n",
    "adata_rna = ad.concat(adata_list)\n",
    "metadata = pd.read_csv(rna_data_path+'cell_annotation.csv')\n",
    "\n"
   ]
  },
  {
   "cell_type": "code",
   "execution_count": null,
   "id": "0dbf430a",
   "metadata": {},
   "outputs": [],
   "source": [
    "# Merge & Filter \n",
    "adata_rna_filtered = adata_rna[adata_rna.obs['Cell ID'].isin(metadata_ordered['Cell ID']),:]\n",
    "metadata_ordered = pd.merge(adata_rna.obs,metadata,'inner',on='Cell ID',)"
   ]
  },
  {
   "cell_type": "code",
   "execution_count": null,
   "id": "efb758e1",
   "metadata": {},
   "outputs": [],
   "source": [
    "\n",
    "if all(adata_rna_filtered.obs['Cell ID'].reset_index(drop=True) == metadata_ordered['Cell ID']):\n",
    "    adata_rna_filtered.obs = metadata_ordered\n",
    "    "
   ]
  },
  {
   "cell_type": "code",
   "execution_count": null,
   "id": "4fff6809",
   "metadata": {},
   "outputs": [],
   "source": [
    "adata_rna_filtered.write(rna_data_path+'aggregate_cell2location_scrna_samples_annotated.h5ad')"
   ]
  },
  {
   "cell_type": "code",
   "execution_count": null,
   "id": "73ef53a3",
   "metadata": {},
   "outputs": [],
   "source": []
  },
  {
   "cell_type": "code",
   "execution_count": null,
   "id": "925cf938",
   "metadata": {},
   "outputs": [],
   "source": []
  },
  {
   "cell_type": "code",
   "execution_count": null,
   "id": "52ecd613",
   "metadata": {},
   "outputs": [],
   "source": []
  }
 ],
 "metadata": {
  "kernelspec": {
   "display_name": "Python 3 (ipykernel)",
   "language": "python",
   "name": "python3"
  },
  "language_info": {
   "codemirror_mode": {
    "name": "ipython",
    "version": 3
   },
   "file_extension": ".py",
   "mimetype": "text/x-python",
   "name": "python",
   "nbconvert_exporter": "python",
   "pygments_lexer": "ipython3",
   "version": "3.8.13"
  }
 },
 "nbformat": 4,
 "nbformat_minor": 5
}
