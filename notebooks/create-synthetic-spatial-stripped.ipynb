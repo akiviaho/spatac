{
 "cells": [
  {
   "cell_type": "code",
   "execution_count": null,
   "id": "c200bff1",
   "metadata": {},
   "outputs": [],
   "source": [
    "# This script is meant for creating synthetic spatial counts"
   ]
  },
  {
   "cell_type": "code",
   "execution_count": 3,
   "id": "611a059a",
   "metadata": {},
   "outputs": [],
   "source": [
    "import sys, ast, os\n",
    "import time\n",
    "import pickle\n",
    "import scanpy as sc\n",
    "import anndata as ad\n",
    "import pandas as pd\n",
    "import numpy as np\n",
    "import os\n",
    "import matplotlib.pyplot as plt \n",
    "import matplotlib\n",
    "data_type = 'float32'\n",
    "\n",
    "import pymc as pm\n",
    "\n",
    "import cell2location.models as c2l\n",
    "import cell2location.plt as c2lpl\n",
    "import cell2location.cluster_averages \n",
    "import cell2location\n",
    "\n",
    "from matplotlib import rcParams\n",
    "rcParams['pdf.fonttype'] = 42 # enables correct plotting of text\n",
    "import seaborn as sns\n",
    "\n",
    "import itertools\n",
    "\n",
    "# scanpy prints a lot of warnings\n",
    "import warnings\n",
    "warnings.filterwarnings('ignore')\n",
    "\n",
    "os.chdir('/lustre/scratch/kiviaho/spatac/')\n",
    "date = 20221104\n",
    "sp_data_folder ='synthetic-spatial/'"
   ]
  },
  {
   "cell_type": "code",
   "execution_count": 90,
   "id": "5cdd6b95",
   "metadata": {},
   "outputs": [],
   "source": [
    "\n",
    "## simulation settings\n",
    "seed = 25343 # changed from 253286\n",
    "n_locations = [100, 100] # 50*50 grid\n",
    "n_experiments = 1 # Changed from 10\n",
    "\n",
    "# sparsity and tissue zones\n",
    "n_tissue_zones = 4 # Changed from 12\n",
    "n_uniform = 0 # Changed from 8\n",
    "\n",
    "# low and high density cell types\n",
    "p_high_density = 0.2 # Changed from 0.2, \n",
    "mu_low_density = 1.0\n",
    "mu_high_density = 2.8"
   ]
  },
  {
   "cell_type": "code",
   "execution_count": 3,
   "id": "d7e87938",
   "metadata": {},
   "outputs": [],
   "source": [
    "# READ Visium in adata_vis\n",
    "# Reading the data in\n",
    "adata_vis = ad.read('data/spatial/cell2location/cell2location_multiexperiment_model_for_synthetic_data/sp.h5ad')\n",
    "# Change gene index to SYMBOL for matching further down the line\n",
    "adata_vis.var['ENSEMBL'] = adata_vis.var.index\n",
    "symbol_index = pd.Index(adata_vis.var['SYMBOL'],dtype='str')\n",
    "adata_vis.var.index = symbol_index\n",
    "adata_vis.var.index = adata_vis.var.index.rename('Gene')"
   ]
  },
  {
   "cell_type": "code",
   "execution_count": 61,
   "id": "3c254afe",
   "metadata": {},
   "outputs": [
    {
     "name": "stderr",
     "output_type": "stream",
     "text": [
      "Auto-assigning NUTS sampler...\n",
      "INFO:pymc:Auto-assigning NUTS sampler...\n",
      "Initializing NUTS using jitter+adapt_diag...\n",
      "INFO:pymc:Initializing NUTS using jitter+adapt_diag...\n",
      "Multiprocess sampling (4 chains in 4 jobs)\n",
      "INFO:pymc:Multiprocess sampling (4 chains in 4 jobs)\n",
      "NUTS: [gene_level_alpha_hyp, gene_level_beta_hyp]\n",
      "INFO:pymc:NUTS: [gene_level_alpha_hyp, gene_level_beta_hyp]\n"
     ]
    },
    {
     "data": {
      "text/html": [
       "\n",
       "<style>\n",
       "    /* Turns off some styling */\n",
       "    progress {\n",
       "        /* gets rid of default border in Firefox and Opera. */\n",
       "        border: none;\n",
       "        /* Needs to be in here for Safari polyfill so background images work as expected. */\n",
       "        background-size: auto;\n",
       "    }\n",
       "    progress:not([value]), progress:not([value])::-webkit-progress-bar {\n",
       "        background: repeating-linear-gradient(45deg, #7e7e7e, #7e7e7e 10px, #5c5c5c 10px, #5c5c5c 20px);\n",
       "    }\n",
       "    .progress-bar-interrupted, .progress-bar-interrupted::-webkit-progress-bar {\n",
       "        background: #F44336;\n",
       "    }\n",
       "</style>\n"
      ],
      "text/plain": [
       "<IPython.core.display.HTML object>"
      ]
     },
     "metadata": {},
     "output_type": "display_data"
    },
    {
     "data": {
      "text/html": [
       "\n",
       "    <div>\n",
       "      <progress value='8000' class='' max='8000' style='width:300px; height:20px; vertical-align: middle;'></progress>\n",
       "      100.00% [8000/8000 00:04&lt;00:00 Sampling 4 chains, 0 divergences]\n",
       "    </div>\n",
       "    "
      ],
      "text/plain": [
       "<IPython.core.display.HTML object>"
      ]
     },
     "metadata": {},
     "output_type": "display_data"
    },
    {
     "name": "stderr",
     "output_type": "stream",
     "text": [
      "Sampling 4 chains for 1_000 tune and 1_000 draw iterations (4_000 + 4_000 draws total) took 5 seconds.\n",
      "INFO:pymc:Sampling 4 chains for 1_000 tune and 1_000 draw iterations (4_000 + 4_000 draws total) took 5 seconds.\n"
     ]
    },
    {
     "data": {
      "text/html": [
       "\n",
       "<style>\n",
       "    /* Turns off some styling */\n",
       "    progress {\n",
       "        /* gets rid of default border in Firefox and Opera. */\n",
       "        border: none;\n",
       "        /* Needs to be in here for Safari polyfill so background images work as expected. */\n",
       "        background-size: auto;\n",
       "    }\n",
       "    progress:not([value]), progress:not([value])::-webkit-progress-bar {\n",
       "        background: repeating-linear-gradient(45deg, #7e7e7e, #7e7e7e 10px, #5c5c5c 10px, #5c5c5c 20px);\n",
       "    }\n",
       "    .progress-bar-interrupted, .progress-bar-interrupted::-webkit-progress-bar {\n",
       "        background: #F44336;\n",
       "    }\n",
       "</style>\n"
      ],
      "text/plain": [
       "<IPython.core.display.HTML object>"
      ]
     },
     "metadata": {},
     "output_type": "display_data"
    },
    {
     "data": {
      "text/html": [
       "\n",
       "    <div>\n",
       "      <progress value='4000' class='' max='4000' style='width:300px; height:20px; vertical-align: middle;'></progress>\n",
       "      100.00% [4000/4000 00:09&lt;00:00]\n",
       "    </div>\n",
       "    "
      ],
      "text/plain": [
       "<IPython.core.display.HTML object>"
      ]
     },
     "metadata": {},
     "output_type": "display_data"
    },
    {
     "data": {
      "image/png": "[encoded data removed]",
      "text/plain": [
       "<Figure size 640x480 with 1 Axes>"
      ]
     },
     "metadata": {},
     "output_type": "display_data"
    }
   ],
   "source": [
    "# put observed gene levels to data frame\n",
    "gene_level_df = pd.DataFrame(adata_vis.uns['mod']['post_sample_means']['m_g'].T,\n",
    "                          index=adata_vis.var.index,\n",
    "                          columns=['gene_level'])\n",
    "\n",
    "with pm.Model() as model:\n",
    "    gene_level_alpha_hyp = pm.Gamma('gene_level_alpha_hyp', 1, 1, shape=(1, 1))\n",
    "    gene_level_beta_hyp = pm.Gamma('gene_level_beta_hyp', 1, 1, shape=(1, 1))\n",
    "    # global gene levels\n",
    "    gene_level = pm.Gamma('gene_level', gene_level_alpha_hyp,\n",
    "                          gene_level_beta_hyp, shape=(gene_level_df.shape[0], 1),\n",
    "                          observed=gene_level_df.values)\n",
    "    \n",
    "    posterior = pm.sample()\n",
    "    posterior_pred = pm.sample_posterior_predictive(posterior)\n",
    "    \n",
    "\n",
    "plt.hist(gene_level_df.values.flatten(), bins=100);\n",
    "plt.xlabel(r'observed $m_g$')\n",
    "plt.title(f'mean {gene_level_df.values.mean()},\\n alpha {posterior.posterior.gene_level_alpha_hyp.mean()},\\n beta {posterior.posterior.gene_level_beta_hyp.mean()}');\n"
   ]
  },
  {
   "cell_type": "code",
   "execution_count": 91,
   "id": "164d7b07",
   "metadata": {},
   "outputs": [
    {
     "data": {
      "text/plain": [
       "(tissue_zone_0    2\n",
       " tissue_zone_1    1\n",
       " tissue_zone_2    1\n",
       " dtype: int64,\n",
       " EN       1\n",
       " IN       1\n",
       " OG1      1\n",
       " A1.E1    1\n",
       " dtype: int64)"
      ]
     },
     "execution_count": 91,
     "metadata": {},
     "output_type": "execute_result"
    }
   ],
   "source": [
    "## simulation settings\n",
    "np.random.seed(seed)\n",
    "\n",
    "## generate per cell type simulation attributes\n",
    "n_cell_types = rna.obs['broad_celltype'].value_counts().shape[0]\n",
    "n_sparse = n_cell_types - n_uniform\n",
    "n_zones_per_cell_type = np.random.binomial(n_tissue_zones, 0.02, size=n_sparse)+1\n",
    "experiment_id = np.repeat(np.arange(n_experiments), np.prod(n_locations))\n",
    "cell_types = np.array(rna.obs['broad_celltype'].unique())\n",
    "uniform_cell_types = np.random.choice(cell_types, n_uniform, replace=False)\n",
    "sparse_cell_types = cell_types[~np.isin(cell_types, uniform_cell_types)]\n",
    "\n",
    "# generate matrix of which cell types are in which zones\n",
    "cell_types2zones = pd.DataFrame(0, index=cell_types, \n",
    "                                columns=[f'tissue_zone_{i}' for i in range(n_tissue_zones)] \\\n",
    "                                + [f'uniform_{i}' for i in range(n_uniform)])\n",
    "for i, n in enumerate(n_zones_per_cell_type):\n",
    "    pos = np.random.randint(n_tissue_zones, size=n)\n",
    "    cell_types2zones.iloc[i,pos] = 1\n",
    "    \n",
    "# and which uniform cell types belong to which uniform pattern\n",
    "for i in range(n_uniform):\n",
    "    cell_types2zones.iloc[n_sparse+i, n_tissue_zones+i] = 1\n",
    "    \n",
    "cell_types2zones.sum(), cell_types2zones.sum(1)"
   ]
  },
  {
   "cell_type": "code",
   "execution_count": 72,
   "id": "0c2a1e36",
   "metadata": {},
   "outputs": [
    {
     "name": "stdout",
     "output_type": "stream",
     "text": [
      "['OG1']\n",
      "[]\n",
      "[]\n"
     ]
    },
    {
     "data": {
      "text/plain": [
       "0.25"
      ]
     },
     "execution_count": 72,
     "metadata": {},
     "output_type": "execute_result"
    }
   ],
   "source": [
    "np.random.seed(seed)\n",
    "# Assign cell types to either high or low density, balanced by uniform / tissue zone\n",
    "high_density_cell_types = list(np.random.choice(uniform_cell_types, \n",
    "                                                int(np.round(n_uniform * p_high_density)), \n",
    "                                                replace=False))\n",
    "for z, n in cell_types2zones.sum().items():\n",
    "    \n",
    "    ct = list(np.random.choice(cell_types2zones.index[cell_types2zones[z] > 0], \n",
    "                                                int(np.round(n * p_high_density)), \n",
    "                                                replace=False))\n",
    "    print(ct)\n",
    "    high_density_cell_types = high_density_cell_types + ct\n",
    "    \n",
    "low_density_cell_types = cell_types[~np.isin(cell_types, high_density_cell_types)]\n",
    "    \n",
    "# what proportion of cells are uniform?\n",
    "len(high_density_cell_types) / len(cell_types)"
   ]
  },
  {
   "cell_type": "code",
   "execution_count": 73,
   "id": "074473f0",
   "metadata": {},
   "outputs": [
    {
     "data": {
      "image/png": "[encoded data removed]",
      "text/plain": [
       "<Figure size 640x480 with 1 Axes>"
      ]
     },
     "metadata": {},
     "output_type": "display_data"
    }
   ],
   "source": [
    "np.random.seed(seed)\n",
    "#Generate average abundance for low and high density cell types\n",
    "mean_var_ratio = 5\n",
    "plt.hist([np.random.gamma(mu_low_density * mean_var_ratio, 1/mean_var_ratio, size=int(1e5)),\n",
    "          np.random.gamma(mu_high_density * mean_var_ratio, 1/mean_var_ratio, size=int(1e5))], bins=50);\n",
    "plt.xlim(0, 10);\n",
    "\n",
    "cell_types2zones.loc[low_density_cell_types] = cell_types2zones.loc[low_density_cell_types] \\\n",
    " * np.random.gamma(mu_low_density * mean_var_ratio, \n",
    "                   1/mean_var_ratio, \n",
    "                   size=(len(low_density_cell_types), 1))\n",
    "\n",
    "cell_types2zones.loc[high_density_cell_types] = cell_types2zones.loc[high_density_cell_types] \\\n",
    " * np.random.gamma(mu_high_density * mean_var_ratio, \n",
    "                   1/mean_var_ratio, \n",
    "                   size=(len(high_density_cell_types), 1))"
   ]
  },
  {
   "cell_type": "code",
   "execution_count": null,
   "id": "65de3d96",
   "metadata": {},
   "outputs": [],
   "source": []
  }
 ],
 "metadata": {
  "kernelspec": {
   "display_name": "Python 3 (ipykernel)",
   "language": "python",
   "name": "python3"
  },
  "language_info": {
   "codemirror_mode": {
    "name": "ipython",
    "version": 3
   },
   "file_extension": ".py",
   "mimetype": "text/x-python",
   "name": "python",
   "nbconvert_exporter": "python",
   "pygments_lexer": "ipython3",
   "version": "3.8.13"
  }
 },
 "nbformat": 4,
 "nbformat_minor": 5
}
