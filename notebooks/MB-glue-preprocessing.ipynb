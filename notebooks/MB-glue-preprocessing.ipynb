{
 "cells": [
  {
   "cell_type": "code",
   "execution_count": 1,
   "id": "0b3ecf14",
   "metadata": {},
   "outputs": [],
   "source": [
    "import anndata as ad\n",
    "import networkx as nx\n",
    "import scanpy as sc\n",
    "import pandas as pd\n",
    "import numpy as np\n",
    "import scglue\n",
    "from matplotlib import rcParams\n",
    "import os\n",
    "os.chdir('/lustre/scratch/kiviaho/spatac/integrations/multiome_5k/individual_cells_per_spot_10_from_5_metacells/')\n",
    "date = '20221121'\n",
    "multiple_experiments = False"
   ]
  },
  {
   "cell_type": "code",
   "execution_count": 33,
   "id": "9c536bac",
   "metadata": {},
   "outputs": [
    {
     "name": "stderr",
     "output_type": "stream",
     "text": [
      "/home/ak431480/.conda/envs/spatac/lib/python3.8/site-packages/anndata/_core/anndata.py:1830: UserWarning: Variable names are not unique. To make them unique, call `.var_names_make_unique`.\n",
      "  utils.warn_names_duplicates(\"var\")\n"
     ]
    }
   ],
   "source": [
    "rna_name = 'synthetic_spatial_rna'\n",
    "atac_name = 'simulated_atac'\n",
    "\n",
    "rna = ad.read_h5ad(rna_name+'.h5ad')\n",
    "atac = ad.read_h5ad(atac_name + '.h5ad')\n",
    "\n",
    "# Copy raw counts into X, only if \n",
    "\n",
    "# For single cell\n",
    "# rna.X = rna.layers['counts'].copy()\n",
    "# atac.X = atac.layers['counts'].copy()\n",
    "\n",
    "# For simulated data\n",
    "rna.layers['counts'] = rna.X.copy()\n",
    "atac.layers['counts'] = atac.X.copy()"
   ]
  },
  {
   "cell_type": "code",
   "execution_count": 34,
   "id": "a6c3ef98",
   "metadata": {},
   "outputs": [],
   "source": [
    "scglue.data.get_gene_annotation(\n",
    "    rna, gtf=\"../../../gencode.vM30.annotation.gtf.gz\",\n",
    "    gtf_by=\"gene_name\"\n",
    ")\n"
   ]
  },
  {
   "cell_type": "code",
   "execution_count": 35,
   "id": "f86a318d",
   "metadata": {},
   "outputs": [],
   "source": [
    "# Drop unannotated genes:\n",
    "rna = rna[:,~rna.var.index.duplicated(keep='first')]\n",
    "rna = rna[:,rna.var.dropna(subset=['chrom','chromStart','chromEnd']).index]"
   ]
  },
  {
   "cell_type": "code",
   "execution_count": 36,
   "id": "378e3d76",
   "metadata": {},
   "outputs": [
    {
     "name": "stderr",
     "output_type": "stream",
     "text": [
      "/home/ak431480/.conda/envs/spatac/lib/python3.8/site-packages/anndata/compat/_overloaded_dict.py:106: ImplicitModificationWarning: Trying to modify attribute `._uns` of view, initializing view as actual.\n",
      "  self.data[key] = value\n"
     ]
    }
   ],
   "source": [
    "sc.pp.highly_variable_genes(rna, n_top_genes=2000, flavor=\"seurat_v3\",span=1)\n",
    "sc.pp.normalize_total(rna)\n",
    "sc.pp.log1p(rna)\n",
    "sc.pp.scale(rna)\n",
    "sc.tl.pca(rna, n_comps=100, svd_solver=\"auto\")"
   ]
  },
  {
   "cell_type": "code",
   "execution_count": 37,
   "id": "73b802c1",
   "metadata": {},
   "outputs": [],
   "source": [
    "# Drop peak locations with zero peaks\n",
    "atac = atac[:,~(atac.X.sum(axis=0)==0)]\n",
    "scglue.data.lsi(atac,n_components=100)"
   ]
  },
  {
   "cell_type": "code",
   "execution_count": 38,
   "id": "20218f59",
   "metadata": {},
   "outputs": [
    {
     "data": {
      "text/html": [
       "<div>\n",
       "<style scoped>\n",
       "    .dataframe tbody tr th:only-of-type {\n",
       "        vertical-align: middle;\n",
       "    }\n",
       "\n",
       "    .dataframe tbody tr th {\n",
       "        vertical-align: top;\n",
       "    }\n",
       "\n",
       "    .dataframe thead th {\n",
       "        text-align: right;\n",
       "    }\n",
       "</style>\n",
       "<table border=\"1\" class=\"dataframe\">\n",
       "  <thead>\n",
       "    <tr style=\"text-align: right;\">\n",
       "      <th></th>\n",
       "      <th>seqnames</th>\n",
       "      <th>start</th>\n",
       "      <th>end</th>\n",
       "      <th>width</th>\n",
       "      <th>strand</th>\n",
       "      <th>score</th>\n",
       "      <th>replicateScoreQuantile</th>\n",
       "      <th>groupScoreQuantile</th>\n",
       "      <th>Reproducibility</th>\n",
       "      <th>GroupReplicate</th>\n",
       "      <th>...</th>\n",
       "      <th>distToGeneStart</th>\n",
       "      <th>peakType</th>\n",
       "      <th>distToTSS</th>\n",
       "      <th>nearestTSS</th>\n",
       "      <th>GC</th>\n",
       "      <th>idx</th>\n",
       "      <th>N</th>\n",
       "      <th>chrom</th>\n",
       "      <th>chromStart</th>\n",
       "      <th>chromEnd</th>\n",
       "    </tr>\n",
       "  </thead>\n",
       "  <tbody>\n",
       "    <tr>\n",
       "      <th>chr1:3094816-3095316</th>\n",
       "      <td>chr1</td>\n",
       "      <td>3094816</td>\n",
       "      <td>3095316</td>\n",
       "      <td>501</td>\n",
       "      <td>*</td>\n",
       "      <td>142.0470</td>\n",
       "      <td>0.922</td>\n",
       "      <td>0.729</td>\n",
       "      <td>2</td>\n",
       "      <td>C10._.Rep1</td>\n",
       "      <td>...</td>\n",
       "      <td>119416</td>\n",
       "      <td>Distal</td>\n",
       "      <td>120565</td>\n",
       "      <td>uc007afg.1</td>\n",
       "      <td>0.4271</td>\n",
       "      <td>1</td>\n",
       "      <td>0</td>\n",
       "      <td>chr1</td>\n",
       "      <td>3094816</td>\n",
       "      <td>3095316</td>\n",
       "    </tr>\n",
       "    <tr>\n",
       "      <th>chr1:3119745-3120245</th>\n",
       "      <td>chr1</td>\n",
       "      <td>3119745</td>\n",
       "      <td>3120245</td>\n",
       "      <td>501</td>\n",
       "      <td>*</td>\n",
       "      <td>8.4234</td>\n",
       "      <td>0.923</td>\n",
       "      <td>0.694</td>\n",
       "      <td>2</td>\n",
       "      <td>C5._.Rep2</td>\n",
       "      <td>...</td>\n",
       "      <td>94487</td>\n",
       "      <td>Distal</td>\n",
       "      <td>95636</td>\n",
       "      <td>uc007afg.1</td>\n",
       "      <td>0.3812</td>\n",
       "      <td>2</td>\n",
       "      <td>0</td>\n",
       "      <td>chr1</td>\n",
       "      <td>3119745</td>\n",
       "      <td>3120245</td>\n",
       "    </tr>\n",
       "    <tr>\n",
       "      <th>chr1:3121251-3121751</th>\n",
       "      <td>chr1</td>\n",
       "      <td>3121251</td>\n",
       "      <td>3121751</td>\n",
       "      <td>501</td>\n",
       "      <td>*</td>\n",
       "      <td>12.8192</td>\n",
       "      <td>0.599</td>\n",
       "      <td>0.212</td>\n",
       "      <td>2</td>\n",
       "      <td>C6._.Rep1</td>\n",
       "      <td>...</td>\n",
       "      <td>92981</td>\n",
       "      <td>Distal</td>\n",
       "      <td>94130</td>\n",
       "      <td>uc007afg.1</td>\n",
       "      <td>0.4411</td>\n",
       "      <td>3</td>\n",
       "      <td>0</td>\n",
       "      <td>chr1</td>\n",
       "      <td>3121251</td>\n",
       "      <td>3121751</td>\n",
       "    </tr>\n",
       "    <tr>\n",
       "      <th>chr1:3371495-3371995</th>\n",
       "      <td>chr1</td>\n",
       "      <td>3371495</td>\n",
       "      <td>3371995</td>\n",
       "      <td>501</td>\n",
       "      <td>*</td>\n",
       "      <td>16.6912</td>\n",
       "      <td>0.631</td>\n",
       "      <td>0.246</td>\n",
       "      <td>2</td>\n",
       "      <td>C4._.Rep1</td>\n",
       "      <td>...</td>\n",
       "      <td>157263</td>\n",
       "      <td>Intronic</td>\n",
       "      <td>156112</td>\n",
       "      <td>uc007afg.1</td>\n",
       "      <td>0.3972</td>\n",
       "      <td>4</td>\n",
       "      <td>0</td>\n",
       "      <td>chr1</td>\n",
       "      <td>3371495</td>\n",
       "      <td>3371995</td>\n",
       "    </tr>\n",
       "    <tr>\n",
       "      <th>chr1:3399685-3400185</th>\n",
       "      <td>chr1</td>\n",
       "      <td>3399685</td>\n",
       "      <td>3400185</td>\n",
       "      <td>501</td>\n",
       "      <td>*</td>\n",
       "      <td>8.4234</td>\n",
       "      <td>0.923</td>\n",
       "      <td>0.694</td>\n",
       "      <td>2</td>\n",
       "      <td>C5._.Rep2</td>\n",
       "      <td>...</td>\n",
       "      <td>185453</td>\n",
       "      <td>Intronic</td>\n",
       "      <td>184302</td>\n",
       "      <td>uc007afg.1</td>\n",
       "      <td>0.4112</td>\n",
       "      <td>5</td>\n",
       "      <td>0</td>\n",
       "      <td>chr1</td>\n",
       "      <td>3399685</td>\n",
       "      <td>3400185</td>\n",
       "    </tr>\n",
       "  </tbody>\n",
       "</table>\n",
       "<p>5 rows × 21 columns</p>\n",
       "</div>"
      ],
      "text/plain": [
       "                     seqnames    start      end  width strand     score  \\\n",
       "chr1:3094816-3095316     chr1  3094816  3095316    501      *  142.0470   \n",
       "chr1:3119745-3120245     chr1  3119745  3120245    501      *    8.4234   \n",
       "chr1:3121251-3121751     chr1  3121251  3121751    501      *   12.8192   \n",
       "chr1:3371495-3371995     chr1  3371495  3371995    501      *   16.6912   \n",
       "chr1:3399685-3400185     chr1  3399685  3400185    501      *    8.4234   \n",
       "\n",
       "                      replicateScoreQuantile  groupScoreQuantile  \\\n",
       "chr1:3094816-3095316                   0.922               0.729   \n",
       "chr1:3119745-3120245                   0.923               0.694   \n",
       "chr1:3121251-3121751                   0.599               0.212   \n",
       "chr1:3371495-3371995                   0.631               0.246   \n",
       "chr1:3399685-3400185                   0.923               0.694   \n",
       "\n",
       "                      Reproducibility GroupReplicate  ... distToGeneStart  \\\n",
       "chr1:3094816-3095316                2     C10._.Rep1  ...          119416   \n",
       "chr1:3119745-3120245                2      C5._.Rep2  ...           94487   \n",
       "chr1:3121251-3121751                2      C6._.Rep1  ...           92981   \n",
       "chr1:3371495-3371995                2      C4._.Rep1  ...          157263   \n",
       "chr1:3399685-3400185                2      C5._.Rep2  ...          185453   \n",
       "\n",
       "                      peakType distToTSS  nearestTSS      GC  idx  N  chrom  \\\n",
       "chr1:3094816-3095316    Distal    120565  uc007afg.1  0.4271    1  0   chr1   \n",
       "chr1:3119745-3120245    Distal     95636  uc007afg.1  0.3812    2  0   chr1   \n",
       "chr1:3121251-3121751    Distal     94130  uc007afg.1  0.4411    3  0   chr1   \n",
       "chr1:3371495-3371995  Intronic    156112  uc007afg.1  0.3972    4  0   chr1   \n",
       "chr1:3399685-3400185  Intronic    184302  uc007afg.1  0.4112    5  0   chr1   \n",
       "\n",
       "                     chromStart  chromEnd  \n",
       "chr1:3094816-3095316    3094816   3095316  \n",
       "chr1:3119745-3120245    3119745   3120245  \n",
       "chr1:3121251-3121751    3121251   3121751  \n",
       "chr1:3371495-3371995    3371495   3371995  \n",
       "chr1:3399685-3400185    3399685   3400185  \n",
       "\n",
       "[5 rows x 21 columns]"
      ]
     },
     "execution_count": 38,
     "metadata": {},
     "output_type": "execute_result"
    }
   ],
   "source": [
    "split = atac.var_names.str.split(r\"[:-]\")\n",
    "atac.var[\"chrom\"] = split.map(lambda x: x[0])\n",
    "atac.var[\"chromStart\"] = split.map(lambda x: x[1]).astype(int)\n",
    "atac.var[\"chromEnd\"] = split.map(lambda x: x[2]).astype(int)\n",
    "atac.var.head()"
   ]
  },
  {
   "cell_type": "code",
   "execution_count": 39,
   "id": "07bd659e",
   "metadata": {},
   "outputs": [
    {
     "data": {
      "application/json": {
       "ascii": false,
       "bar_format": null,
       "colour": null,
       "elapsed": 0.023387908935546875,
       "initial": 0,
       "n": 0,
       "ncols": null,
       "nrows": 25,
       "postfix": null,
       "prefix": "window_graph",
       "rate": null,
       "total": 31527,
       "unit": "it",
       "unit_divisor": 1000,
       "unit_scale": false
      },
      "application/vnd.jupyter.widget-view+json": {
       "model_id": "5f0afab3419a4d14b937859416f4c0d5",
       "version_major": 2,
       "version_minor": 0
      },
      "text/plain": [
       "window_graph:   0%|          | 0/31527 [00:00<?, ?it/s]"
      ]
     },
     "metadata": {},
     "output_type": "display_data"
    },
    {
     "name": "stdout",
     "output_type": "stream",
     "text": [
      "[INFO] check_graph: Checking variable coverage...\n",
      "[INFO] check_graph: Checking edge attributes...\n",
      "[INFO] check_graph: Checking self-loops...\n",
      "[INFO] check_graph: Checking graph symmetry...\n",
      "[INFO] check_graph: All checks passed!\n"
     ]
    }
   ],
   "source": [
    "# Only need to compute one guidance graph for all spatial exps since they all have the same features\n",
    "# i.e. the same graph\n",
    "guidance = scglue.genomics.rna_anchored_guidance_graph(rna, atac)\n",
    "scglue.graph.check_graph(guidance, [rna, atac])"
   ]
  },
  {
   "cell_type": "code",
   "execution_count": 40,
   "id": "9c5565eb",
   "metadata": {},
   "outputs": [],
   "source": [
    "atac.write('preprocessed_'+atac_name+'_'+date+\".h5ad\", compression=\"gzip\")\n",
    "rna.write(\"preprocessed_\"+rna_name+\"_\"+date+\".h5ad\", compression=\"gzip\")\n",
    "nx.write_graphml(guidance, \"guidance_graph_\"+atac_name+\"_\"+rna_name+\"_\"+date+\".graphml.gz\")"
   ]
  },
  {
   "cell_type": "code",
   "execution_count": 41,
   "id": "e664af02",
   "metadata": {},
   "outputs": [
    {
     "data": {
      "text/plain": [
       "AnnData object with n_obs × n_vars = 3600 × 31527\n",
       "    obs: '31', '18', '49', '50', '14'\n",
       "    var: 'gene_ids', 'feature_types', 'genome', 'highly_variable', 'means', 'dispersions', 'dispersions_norm', 'chrom', 'chromStart', 'chromEnd', 'name', 'score', 'strand', 'thickStart', 'thickEnd', 'itemRgb', 'blockCount', 'blockSizes', 'blockStarts', 'gene_id', 'gene_type', 'mgi_id', 'havana_gene', 'tag', 'highly_variable_rank', 'variances', 'variances_norm', 'mean', 'std'\n",
       "    uns: 'hvg', 'log1p', 'pca'\n",
       "    obsm: 'X_pca'\n",
       "    varm: 'PCs'\n",
       "    layers: 'counts'"
      ]
     },
     "execution_count": 41,
     "metadata": {},
     "output_type": "execute_result"
    }
   ],
   "source": [
    "rna"
   ]
  },
  {
   "cell_type": "code",
   "execution_count": 42,
   "id": "53ec2705",
   "metadata": {},
   "outputs": [
    {
     "data": {
      "text/plain": [
       "AnnData object with n_obs × n_vars = 9000 × 112344\n",
       "    obs: '31', '18', '49', '50', '14'\n",
       "    var: 'seqnames', 'start', 'end', 'width', 'strand', 'score', 'replicateScoreQuantile', 'groupScoreQuantile', 'Reproducibility', 'GroupReplicate', 'nearestGene', 'distToGeneStart', 'peakType', 'distToTSS', 'nearestTSS', 'GC', 'idx', 'N', 'chrom', 'chromStart', 'chromEnd', 'highly_variable'\n",
       "    obsm: 'X_lsi'\n",
       "    layers: 'counts'"
      ]
     },
     "execution_count": 42,
     "metadata": {},
     "output_type": "execute_result"
    }
   ],
   "source": [
    "atac"
   ]
  },
  {
   "cell_type": "code",
   "execution_count": null,
   "id": "05583ea8",
   "metadata": {},
   "outputs": [],
   "source": []
  },
  {
   "cell_type": "code",
   "execution_count": null,
   "id": "64579000",
   "metadata": {},
   "outputs": [],
   "source": []
  }
 ],
 "metadata": {
  "kernelspec": {
   "display_name": "Python 3 (ipykernel)",
   "language": "python",
   "name": "python3"
  }
 },
 "nbformat": 4,
 "nbformat_minor": 5
}
