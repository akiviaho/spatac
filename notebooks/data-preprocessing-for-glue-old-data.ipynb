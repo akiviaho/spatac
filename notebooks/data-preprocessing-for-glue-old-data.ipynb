{
 "cells": [
  {
   "cell_type": "code",
   "execution_count": 1,
   "id": "0b3ecf14",
   "metadata": {},
   "outputs": [
    {
     "ename": "ModuleNotFoundError",
     "evalue": "No module named 'scglue'",
     "output_type": "error",
     "traceback": [
      "\u001b[0;31m---------------------------------------------------------------------------\u001b[0m",
      "\u001b[0;31mModuleNotFoundError\u001b[0m                       Traceback (most recent call last)",
      "Input \u001b[0;32mIn [1]\u001b[0m, in \u001b[0;36m<cell line: 6>\u001b[0;34m()\u001b[0m\n\u001b[1;32m      4\u001b[0m \u001b[38;5;28;01mimport\u001b[39;00m \u001b[38;5;21;01mpandas\u001b[39;00m \u001b[38;5;28;01mas\u001b[39;00m \u001b[38;5;21;01mpd\u001b[39;00m\n\u001b[1;32m      5\u001b[0m \u001b[38;5;28;01mimport\u001b[39;00m \u001b[38;5;21;01mnumpy\u001b[39;00m \u001b[38;5;28;01mas\u001b[39;00m \u001b[38;5;21;01mnp\u001b[39;00m\n\u001b[0;32m----> 6\u001b[0m \u001b[38;5;28;01mimport\u001b[39;00m \u001b[38;5;21;01mscglue\u001b[39;00m\n\u001b[1;32m      7\u001b[0m \u001b[38;5;28;01mfrom\u001b[39;00m \u001b[38;5;21;01mmatplotlib\u001b[39;00m \u001b[38;5;28;01mimport\u001b[39;00m rcParams\n\u001b[1;32m      8\u001b[0m \u001b[38;5;28;01mimport\u001b[39;00m \u001b[38;5;21;01mos\u001b[39;00m\n",
      "\u001b[0;31mModuleNotFoundError\u001b[0m: No module named 'scglue'"
     ]
    }
   ],
   "source": [
    "import anndata as ad\n",
    "import networkx as nx\n",
    "import scanpy as sc\n",
    "import pandas as pd\n",
    "import numpy as np\n",
    "import scglue\n",
    "from matplotlib import rcParams\n",
    "import os\n",
    "os.chdir('/lustre/scratch/kiviaho/spatac/')\n",
    "date = '20221107'\n",
    "multiple_experiments = False"
   ]
  },
  {
   "cell_type": "code",
   "execution_count": 18,
   "id": "9c536bac",
   "metadata": {},
   "outputs": [
    {
     "name": "stderr",
     "output_type": "stream",
     "text": [
      "/home/ak431480/.conda/envs/spatac/lib/python3.8/site-packages/anndata/_core/anndata.py:121: ImplicitModificationWarning: Transforming to str index.\n",
      "  warnings.warn(\"Transforming to str index.\", ImplicitModificationWarning)\n"
     ]
    }
   ],
   "source": [
    "rna = ad.read_h5ad('synthetic-spatial/synth_adata_real_mg_20220929.h5ad')\n",
    "atac = ad.read_h5ad('data/share-seq/mouse-brain/share-seq-mouse-brain-atac-data.h5ad')\n",
    "\n",
    "if multiple_experiments:\n",
    "    experiment_ids = ['exper'+ str(n) for n in list(range(0,10))]"
   ]
  },
  {
   "cell_type": "code",
   "execution_count": 19,
   "id": "0ec5a118",
   "metadata": {},
   "outputs": [
    {
     "name": "stderr",
     "output_type": "stream",
     "text": [
      "/tmp/ipykernel_19429/2123430233.py:8: ImplicitModificationWarning: Trying to modify attribute `.obs` of view, initializing view as actual.\n",
      "  atac.obs['broad_celltype'] = aggr_celltypes\n"
     ]
    }
   ],
   "source": [
    "cells_to_keep = ['EN','IN','A1.E1','OG1']\n",
    "cell_idxs = np.where(atac.obs['celltype'].str.contains('|'.join(cells_to_keep)))[0]\n",
    "\n",
    "atac = atac[cell_idxs]\n",
    "aggr_celltypes = atac.obs['celltype'].astype(str)\n",
    "aggr_celltypes[aggr_celltypes.str.contains('EN')] = 'EN'\n",
    "aggr_celltypes[aggr_celltypes.str.contains('IN')] = 'IN'\n",
    "atac.obs['broad_celltype'] = aggr_celltypes"
   ]
  },
  {
   "cell_type": "code",
   "execution_count": 20,
   "id": "a6c3ef98",
   "metadata": {},
   "outputs": [],
   "source": [
    "scglue.data.get_gene_annotation(\n",
    "    rna, gtf=\"gencode.vM30.annotation.gtf.gz\",\n",
    "    gtf_by=\"gene_name\"\n",
    ")\n",
    "# Drop unannotated genes:\n",
    "rna = rna[:,rna.var.dropna(subset=['chrom','chromStart','chromEnd']).index]"
   ]
  },
  {
   "cell_type": "code",
   "execution_count": 25,
   "id": "378e3d76",
   "metadata": {},
   "outputs": [
    {
     "name": "stderr",
     "output_type": "stream",
     "text": [
      "/tmp/ipykernel_19429/1078191812.py:2: FutureWarning: X.dtype being converted to np.float32 from int64. In the next version of anndata (0.9) conversion will not be automatic. Pass dtype explicitly to avoid this warning. Pass `AnnData(X, dtype=X.dtype, ...)` to get the future behavour.\n",
      "  exp.layers[\"counts\"] = exp.X.copy()\n"
     ]
    }
   ],
   "source": [
    "exp = rna\n",
    "exp.layers[\"counts\"] = exp.X.copy()\n",
    "sc.pp.highly_variable_genes(exp, n_top_genes=2000, flavor=\"seurat_v3\")\n",
    "sc.pp.normalize_total(exp)\n",
    "sc.pp.log1p(exp)\n",
    "sc.pp.scale(exp)\n",
    "sc.tl.pca(exp, n_comps=100, svd_solver=\"auto\")"
   ]
  },
  {
   "cell_type": "code",
   "execution_count": 26,
   "id": "5063a0af",
   "metadata": {},
   "outputs": [],
   "source": [
    "# Divide the \"spatial experiments\" into their own anndatas\n",
    "# Only if there are multiple spatial experiments present\n",
    "\n",
    "if multiple_experiments:\n",
    "    synthetic_spatial_exps = list()\n",
    "    for exp_id in experiment_ids:\n",
    "        idxs = [s for s in rna.obs.index if exp_id in s]\n",
    "        synthetic_spatial_exps.append(rna[idxs,:])\n",
    "\n",
    "    # Normalize each spatial experiment individually\n",
    "    for exp in synthetic_spatial_exps:\n",
    "        exp.layers[\"counts\"] = exp.X.copy()\n",
    "        sc.pp.highly_variable_genes(exp, n_top_genes=2000, flavor=\"seurat_v3\")\n",
    "        sc.pp.normalize_total(exp)\n",
    "        sc.pp.log1p(exp)\n",
    "        sc.pp.scale(exp)\n",
    "        sc.tl.pca(exp, n_comps=100, svd_solver=\"auto\")\n",
    "\n",
    "    # Save multiexperiments!\n",
    "    for exp,exp_name in zip(synthetic_spatial_exps,experiment_ids):\n",
    "        exp.write('data/preprocessed_synthetic_spatial_'+exp+'_'+date+'.h5ad',compression='gzip')\n"
   ]
  },
  {
   "cell_type": "code",
   "execution_count": 27,
   "id": "73b802c1",
   "metadata": {},
   "outputs": [
    {
     "name": "stderr",
     "output_type": "stream",
     "text": [
      "/home/ak431480/.conda/envs/spatac/lib/python3.8/site-packages/scglue/num.py:289: RuntimeWarning: divide by zero encountered in true_divide\n",
      "  idf = X.shape[0] / X.sum(axis=0)\n"
     ]
    }
   ],
   "source": [
    "scglue.data.lsi(atac,n_components=100)"
   ]
  },
  {
   "cell_type": "code",
   "execution_count": 28,
   "id": "07bd659e",
   "metadata": {},
   "outputs": [
    {
     "data": {
      "application/json": {
       "ascii": false,
       "bar_format": null,
       "colour": null,
       "elapsed": 0.03025364875793457,
       "initial": 0,
       "n": 0,
       "ncols": null,
       "nrows": 25,
       "postfix": null,
       "prefix": "window_graph",
       "rate": null,
       "total": 11437,
       "unit": "it",
       "unit_divisor": 1000,
       "unit_scale": false
      },
      "application/vnd.jupyter.widget-view+json": {
       "model_id": "bb138c6e45504fee9a5ce2ea0863d7de",
       "version_major": 2,
       "version_minor": 0
      },
      "text/plain": [
       "window_graph:   0%|          | 0/11437 [00:00<?, ?it/s]"
      ]
     },
     "metadata": {},
     "output_type": "display_data"
    },
    {
     "name": "stdout",
     "output_type": "stream",
     "text": [
      "[INFO] check_graph: Checking variable coverage...\n",
      "[INFO] check_graph: Checking edge attributes...\n",
      "[INFO] check_graph: Checking self-loops...\n",
      "[INFO] check_graph: Checking graph symmetry...\n",
      "[INFO] check_graph: All checks passed!\n"
     ]
    }
   ],
   "source": [
    "# Only need to compute one guidance graph for all spatial exps since they all have the same features\n",
    "# i.e. the same graph\n",
    "atac.var['chromStart'] = atac.var['chromBegin']\n",
    "guidance = scglue.genomics.rna_anchored_guidance_graph(rna, atac)\n",
    "scglue.graph.check_graph(guidance, [rna, atac])"
   ]
  },
  {
   "cell_type": "code",
   "execution_count": 35,
   "id": "9c5565eb",
   "metadata": {},
   "outputs": [],
   "source": [
    "atac.write(\"preprocessed_shareseq_atac_data\"+date+\".h5ad\", compression=\"gzip\")\n",
    "rna.write(\"preprocessed_synthetic_spatial_data\"+date+\".h5ad\", compression=\"gzip\")\n",
    "nx.write_graphml(guidance, \"guidance_synth_spatial_atac_shareseq\"+date+\".graphml.gz\")"
   ]
  },
  {
   "cell_type": "code",
   "execution_count": 31,
   "id": "e664af02",
   "metadata": {},
   "outputs": [
    {
     "data": {
      "text/plain": [
       "AnnData object with n_obs × n_vars = 2500 × 11437\n",
       "    obs: 'cell_count_EN', 'cell_count_IN', 'cell_count_OG1', 'cell_count_A1.E1', 'cell_abundances_EN', 'cell_abundances_IN', 'cell_abundances_OG1', 'cell_abundances_A1.E1', 'cell_capture_eff_EN', 'cell_capture_eff_IN', 'cell_capture_eff_OG1', 'cell_capture_eff_A1.E1', 'sample', 'UMI_count_EN', 'UMI_count_IN', 'UMI_count_OG1', 'UMI_count_A1.E1'\n",
       "    var: 'gene_level', 'chrom', 'chromStart', 'chromEnd', 'name', 'score', 'strand', 'thickStart', 'thickEnd', 'itemRgb', 'blockCount', 'blockSizes', 'blockStarts', 'gene_id', 'gene_type', 'mgi_id', 'havana_gene', 'tag', 'highly_variable', 'highly_variable_rank', 'means', 'variances', 'variances_norm', 'mean', 'std'\n",
       "    uns: 'design', 'hvg', 'log1p', 'pca'\n",
       "    obsm: 'X_spatial', 'X_pca'\n",
       "    varm: 'PCs'\n",
       "    layers: 'expression_levels', 'counts'"
      ]
     },
     "execution_count": 31,
     "metadata": {},
     "output_type": "execute_result"
    }
   ],
   "source": [
    "rna"
   ]
  },
  {
   "cell_type": "code",
   "execution_count": 32,
   "id": "53ec2705",
   "metadata": {},
   "outputs": [
    {
     "data": {
      "text/plain": [
       "AnnData object with n_obs × n_vars = 2849 × 428041\n",
       "    obs: 'atac.bc', 'rna.bc', 'celltype', 'broad_celltype'\n",
       "    var: 'chrom', 'chromBegin', 'chromEnd', 'chromStart', 'highly_variable'\n",
       "    obsm: 'X_lsi'"
      ]
     },
     "execution_count": 32,
     "metadata": {},
     "output_type": "execute_result"
    }
   ],
   "source": [
    "atac"
   ]
  },
  {
   "cell_type": "code",
   "execution_count": null,
   "id": "05583ea8",
   "metadata": {},
   "outputs": [],
   "source": []
  },
  {
   "cell_type": "code",
   "execution_count": null,
   "id": "64579000",
   "metadata": {},
   "outputs": [],
   "source": []
  }
 ],
 "metadata": {
  "kernelspec": {
   "display_name": "Python 3 (ipykernel)",
   "language": "python",
   "name": "python3"
  },
  "language_info": {
   "codemirror_mode": {
    "name": "ipython",
    "version": 3
   },
   "file_extension": ".py",
   "mimetype": "text/x-python",
   "name": "python",
   "nbconvert_exporter": "python",
   "pygments_lexer": "ipython3",
   "version": "3.8.13"
  }
 },
 "nbformat": 4,
 "nbformat_minor": 5
}
