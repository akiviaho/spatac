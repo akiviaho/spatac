{
 "cells": [
  {
   "cell_type": "code",
   "execution_count": 1,
   "id": "0b3ecf14",
   "metadata": {},
   "outputs": [],
   "source": [
    "import anndata as ad\n",
    "import networkx as nx\n",
    "import scanpy as sc\n",
    "import pandas as pd\n",
    "import numpy as np\n",
    "import scglue\n",
    "from matplotlib import rcParams\n",
    "import os\n",
    "os.chdir('/lustre/scratch/kiviaho/spatac/integrations/tonsilatlas/sampled_broad_celltypes_all')\n",
    "date = '20221215'\n",
    "multiple_experiments = False"
   ]
  },
  {
   "cell_type": "code",
   "execution_count": 2,
   "id": "9c536bac",
   "metadata": {},
   "outputs": [],
   "source": [
    "rna_name = 'synthetic_spatial_rna'\n",
    "atac_name = 'simulated_spots_atac'\n",
    "\n",
    "rna = ad.read_h5ad(rna_name+'.h5ad')\n",
    "atac = ad.read_h5ad(atac_name + '.h5ad')\n",
    "\n",
    "# Copy raw counts into X, only if \n",
    "# For single cell\n",
    "#rna.X = rna.raw.X.copy()\n",
    "#atac.X = atac.raw.X.copy()\n",
    "\n",
    "# For simulated data\n",
    "rna.layers['counts'] = rna.X.copy()\n",
    "atac.layers['counts'] = atac.X.copy()"
   ]
  },
  {
   "cell_type": "code",
   "execution_count": 3,
   "id": "a6c3ef98",
   "metadata": {},
   "outputs": [],
   "source": [
    "scglue.data.get_gene_annotation(\n",
    "    rna, gtf='../../../gencode.v42.annotation.gtf.gz',\n",
    "    gtf_by=\"gene_name\"\n",
    ")"
   ]
  },
  {
   "cell_type": "code",
   "execution_count": 4,
   "id": "f86a318d",
   "metadata": {},
   "outputs": [],
   "source": [
    "# Drop unannotated genes:\n",
    "rna = rna[:,~rna.var.index.duplicated(keep='first')]\n",
    "rna = rna[:,rna.var.dropna(subset=['chrom','chromStart','chromEnd']).index]"
   ]
  },
  {
   "cell_type": "code",
   "execution_count": 5,
   "id": "378e3d76",
   "metadata": {},
   "outputs": [
    {
     "name": "stderr",
     "output_type": "stream",
     "text": [
      "/home/ak431480/.conda/envs/spatac/lib/python3.8/site-packages/anndata/compat/_overloaded_dict.py:106: ImplicitModificationWarning: Trying to modify attribute `._uns` of view, initializing view as actual.\n",
      "  self.data[key] = value\n"
     ]
    }
   ],
   "source": [
    "sc.pp.highly_variable_genes(rna, n_top_genes=2000, flavor=\"seurat_v3\",span=1)\n",
    "sc.pp.normalize_total(rna)\n",
    "sc.pp.log1p(rna)\n",
    "sc.pp.scale(rna)\n",
    "sc.tl.pca(rna, n_comps=100, svd_solver=\"auto\")"
   ]
  },
  {
   "cell_type": "code",
   "execution_count": 6,
   "id": "2f293808",
   "metadata": {},
   "outputs": [
    {
     "data": {
      "text/plain": [
       "' split = atac.var_names.str.split(r\"[:-]\")\\nstacked_split = np.vstack(split).astype(str)\\nvar_metadata = atac.var.copy()\\nchrom_info = pd.DataFrame({\\'chrom\\':stacked_split[:,0],\\n\\'chromStart\\':stacked_split[:,1],\\n\\'chromEnd\\':stacked_split[:,2]})\\nchrom_info.index = var_metadata.index\\nvar_metadata = pd.concat([var_metadata,chrom_info],axis=1) '"
      ]
     },
     "execution_count": 6,
     "metadata": {},
     "output_type": "execute_result"
    }
   ],
   "source": [
    "# Drop peak locations with zero peaks\n",
    "atac = atac[:,~(atac.X.sum(axis=0)==0)]\n",
    "\n",
    "# Extract coordinates\n",
    "atac.var.rename(columns={'seqnames':'chrom','start':'chromStart','end':'chromEnd'},inplace=True) # just rename existing columns !b\n",
    "\n",
    "\"\"\" split = atac.var_names.str.split(r\"[:-]\")\n",
    "stacked_split = np.vstack(split).astype(str)\n",
    "var_metadata = atac.var.copy()\n",
    "chrom_info = pd.DataFrame({'chrom':stacked_split[:,0],\n",
    "'chromStart':stacked_split[:,1],\n",
    "'chromEnd':stacked_split[:,2]})\n",
    "chrom_info.index = var_metadata.index\n",
    "var_metadata = pd.concat([var_metadata,chrom_info],axis=1) \"\"\""
   ]
  },
  {
   "cell_type": "code",
   "execution_count": 8,
   "id": "0e3b3f1c",
   "metadata": {},
   "outputs": [],
   "source": [
    "sub_atac = atac[:5]\n",
    "sub_rna = rna[:5]\n",
    "# For some weird reason atac var column names revert back to the old ones. Correct them\n",
    "sub_atac.var.rename(columns={'seqnames':'chrom','start':'chromStart','end':'chromEnd'},inplace=True) # "
   ]
  },
  {
   "cell_type": "code",
   "execution_count": 13,
   "id": "34d561dd",
   "metadata": {},
   "outputs": [
    {
     "data": {
      "application/json": {
       "ascii": false,
       "bar_format": null,
       "colour": null,
       "elapsed": 0.023258686065673828,
       "initial": 0,
       "n": 0,
       "ncols": null,
       "nrows": 25,
       "postfix": null,
       "prefix": "window_graph",
       "rate": null,
       "total": 23514,
       "unit": "it",
       "unit_divisor": 1000,
       "unit_scale": false
      },
      "application/vnd.jupyter.widget-view+json": {
       "model_id": "b39c613bc89f491db12ac7b6e8951798",
       "version_major": 2,
       "version_minor": 0
      },
      "text/plain": [
       "window_graph:   0%|          | 0/23514 [00:00<?, ?it/s]"
      ]
     },
     "metadata": {},
     "output_type": "display_data"
    },
    {
     "name": "stderr",
     "output_type": "stream",
     "text": [
      "/home/ak431480/.conda/envs/spatac/lib/python3.8/site-packages/scglue/genomics.py:571: ImplicitModificationWarning: Trying to modify attribute `.var` of view, initializing view as actual.\n",
      "  other.var[\"highly_variable\"] = [\n"
     ]
    },
    {
     "name": "stdout",
     "output_type": "stream",
     "text": [
      "[INFO] check_graph: Checking variable coverage...\n",
      "[INFO] check_graph: Checking edge attributes...\n",
      "[INFO] check_graph: Checking self-loops...\n",
      "[INFO] check_graph: Checking graph symmetry...\n",
      "[INFO] check_graph: All checks passed!\n"
     ]
    }
   ],
   "source": [
    "\n",
    "# Moved guidance graph construction to BEFORE lsi calculation, since it should be using HVGs (which it gets from the RNA)\n",
    "guidance = scglue.genomics.rna_anchored_guidance_graph(sub_rna, sub_atac)\n",
    "scglue.graph.check_graph(guidance, [sub_rna, sub_atac])\n",
    "nx.write_graphml(guidance, \"guidance_graph_\"+atac_name+\"_\"+rna_name+\"_\"+date+\".graphml.gz\")"
   ]
  },
  {
   "cell_type": "code",
   "execution_count": 17,
   "id": "e43911d6",
   "metadata": {},
   "outputs": [
    {
     "ename": "MemoryError",
     "evalue": "Unable to allocate 27.2 GiB for an array with shape (50000, 146076) and data type float32",
     "output_type": "error",
     "traceback": [
      "\u001b[0;31m---------------------------------------------------------------------------\u001b[0m",
      "\u001b[0;31mMemoryError\u001b[0m                               Traceback (most recent call last)",
      "\u001b[1;32m/lustre/scratch/kiviaho/spatac/notebooks/TonMulti-glue-preprocessing.ipynb Cell 9\u001b[0m in \u001b[0;36m<cell line: 1>\u001b[0;34m()\u001b[0m\n\u001b[0;32m----> <a href='vscode-notebook-cell://ssh-remote%2Bnarvi-shell.tut.fi/lustre/scratch/kiviaho/spatac/notebooks/TonMulti-glue-preprocessing.ipynb#X45sdnNjb2RlLXJlbW90ZQ%3D%3D?line=0'>1</a>\u001b[0m atac\u001b[39m.\u001b[39mvar \u001b[39m=\u001b[39m sub_atac\u001b[39m.\u001b[39mvar\n",
      "File \u001b[0;32m~/.conda/envs/spatac/lib/python3.8/site-packages/anndata/_core/anndata.py:882\u001b[0m, in \u001b[0;36mAnnData.var\u001b[0;34m(self, value)\u001b[0m\n\u001b[1;32m    880\u001b[0m \u001b[39m@var\u001b[39m\u001b[39m.\u001b[39msetter\n\u001b[1;32m    881\u001b[0m \u001b[39mdef\u001b[39;00m \u001b[39mvar\u001b[39m(\u001b[39mself\u001b[39m, value: pd\u001b[39m.\u001b[39mDataFrame):\n\u001b[0;32m--> 882\u001b[0m     \u001b[39mself\u001b[39;49m\u001b[39m.\u001b[39;49m_set_dim_df(value, \u001b[39m\"\u001b[39;49m\u001b[39mvar\u001b[39;49m\u001b[39m\"\u001b[39;49m)\n",
      "File \u001b[0;32m~/.conda/envs/spatac/lib/python3.8/site-packages/anndata/_core/anndata.py:800\u001b[0m, in \u001b[0;36mAnnData._set_dim_df\u001b[0;34m(self, value, attr)\u001b[0m\n\u001b[1;32m    798\u001b[0m value_idx \u001b[39m=\u001b[39m \u001b[39mself\u001b[39m\u001b[39m.\u001b[39m_prep_dim_index(value\u001b[39m.\u001b[39mindex, attr)\n\u001b[1;32m    799\u001b[0m \u001b[39mif\u001b[39;00m \u001b[39mself\u001b[39m\u001b[39m.\u001b[39mis_view:\n\u001b[0;32m--> 800\u001b[0m     \u001b[39mself\u001b[39m\u001b[39m.\u001b[39m_init_as_actual(\u001b[39mself\u001b[39;49m\u001b[39m.\u001b[39;49mcopy())\n\u001b[1;32m    801\u001b[0m \u001b[39msetattr\u001b[39m(\u001b[39mself\u001b[39m, \u001b[39mf\u001b[39m\u001b[39m\"\u001b[39m\u001b[39m_\u001b[39m\u001b[39m{\u001b[39;00mattr\u001b[39m}\u001b[39;00m\u001b[39m\"\u001b[39m, value)\n\u001b[1;32m    802\u001b[0m \u001b[39mself\u001b[39m\u001b[39m.\u001b[39m_set_dim_index(value_idx, attr)\n",
      "File \u001b[0;32m~/.conda/envs/spatac/lib/python3.8/site-packages/anndata/_core/anndata.py:1518\u001b[0m, in \u001b[0;36mAnnData.copy\u001b[0;34m(self, filename)\u001b[0m\n\u001b[1;32m   1512\u001b[0m \u001b[39mif\u001b[39;00m \u001b[39mnot\u001b[39;00m \u001b[39mself\u001b[39m\u001b[39m.\u001b[39misbacked:\n\u001b[1;32m   1513\u001b[0m     \u001b[39mif\u001b[39;00m \u001b[39mself\u001b[39m\u001b[39m.\u001b[39mis_view \u001b[39mand\u001b[39;00m \u001b[39mself\u001b[39m\u001b[39m.\u001b[39m_has_X():\n\u001b[1;32m   1514\u001b[0m         \u001b[39m# TODO: How do I unambiguously check if this is a copy?\u001b[39;00m\n\u001b[1;32m   1515\u001b[0m         \u001b[39m# Subsetting this way means we don’t have to have a view type\u001b[39;00m\n\u001b[1;32m   1516\u001b[0m         \u001b[39m# defined for the matrix, which is needed for some of the\u001b[39;00m\n\u001b[1;32m   1517\u001b[0m         \u001b[39m# current distributed backend. Specifically Dask.\u001b[39;00m\n\u001b[0;32m-> 1518\u001b[0m         \u001b[39mreturn\u001b[39;00m \u001b[39mself\u001b[39;49m\u001b[39m.\u001b[39;49m_mutated_copy(\n\u001b[1;32m   1519\u001b[0m             X\u001b[39m=\u001b[39;49m_subset(\u001b[39mself\u001b[39;49m\u001b[39m.\u001b[39;49m_adata_ref\u001b[39m.\u001b[39;49mX, (\u001b[39mself\u001b[39;49m\u001b[39m.\u001b[39;49m_oidx, \u001b[39mself\u001b[39;49m\u001b[39m.\u001b[39;49m_vidx))\u001b[39m.\u001b[39;49mcopy()\n\u001b[1;32m   1520\u001b[0m         )\n\u001b[1;32m   1521\u001b[0m     \u001b[39melse\u001b[39;00m:\n\u001b[1;32m   1522\u001b[0m         \u001b[39mreturn\u001b[39;00m \u001b[39mself\u001b[39m\u001b[39m.\u001b[39m_mutated_copy()\n",
      "File \u001b[0;32m~/.conda/envs/spatac/lib/python3.8/site-packages/anndata/_core/anndata.py:1467\u001b[0m, in \u001b[0;36mAnnData._mutated_copy\u001b[0;34m(self, **kwargs)\u001b[0m\n\u001b[1;32m   1465\u001b[0m         new[key] \u001b[39m=\u001b[39m kwargs[key]\n\u001b[1;32m   1466\u001b[0m     \u001b[39melse\u001b[39;00m:\n\u001b[0;32m-> 1467\u001b[0m         new[key] \u001b[39m=\u001b[39m \u001b[39mgetattr\u001b[39;49m(\u001b[39mself\u001b[39;49m, key)\u001b[39m.\u001b[39;49mcopy()\n\u001b[1;32m   1468\u001b[0m \u001b[39mif\u001b[39;00m \u001b[39m\"\u001b[39m\u001b[39mX\u001b[39m\u001b[39m\"\u001b[39m \u001b[39min\u001b[39;00m kwargs:\n\u001b[1;32m   1469\u001b[0m     new[\u001b[39m\"\u001b[39m\u001b[39mX\u001b[39m\u001b[39m\"\u001b[39m] \u001b[39m=\u001b[39m kwargs[\u001b[39m\"\u001b[39m\u001b[39mX\u001b[39m\u001b[39m\"\u001b[39m]\n",
      "File \u001b[0;32m~/.conda/envs/spatac/lib/python3.8/site-packages/anndata/_core/aligned_mapping.py:269\u001b[0m, in \u001b[0;36mLayersBase.copy\u001b[0;34m(self)\u001b[0m\n\u001b[1;32m    267\u001b[0m d \u001b[39m=\u001b[39m \u001b[39mself\u001b[39m\u001b[39m.\u001b[39m_actual_class(\u001b[39mself\u001b[39m\u001b[39m.\u001b[39mparent)\n\u001b[1;32m    268\u001b[0m \u001b[39mfor\u001b[39;00m k, v \u001b[39min\u001b[39;00m \u001b[39mself\u001b[39m\u001b[39m.\u001b[39mitems():\n\u001b[0;32m--> 269\u001b[0m     d[k] \u001b[39m=\u001b[39m v\u001b[39m.\u001b[39;49mcopy()\n\u001b[1;32m    270\u001b[0m \u001b[39mreturn\u001b[39;00m d\n",
      "File \u001b[0;32m~/.conda/envs/spatac/lib/python3.8/site-packages/anndata/_core/views.py:88\u001b[0m, in \u001b[0;36mArrayView.copy\u001b[0;34m(self, order)\u001b[0m\n\u001b[1;32m     86\u001b[0m \u001b[39mdef\u001b[39;00m \u001b[39mcopy\u001b[39m(\u001b[39mself\u001b[39m, order: \u001b[39mstr\u001b[39m \u001b[39m=\u001b[39m \u001b[39m\"\u001b[39m\u001b[39mC\u001b[39m\u001b[39m\"\u001b[39m) \u001b[39m-\u001b[39m\u001b[39m>\u001b[39m np\u001b[39m.\u001b[39mndarray:\n\u001b[1;32m     87\u001b[0m     \u001b[39m# we want a conventional array\u001b[39;00m\n\u001b[0;32m---> 88\u001b[0m     \u001b[39mreturn\u001b[39;00m np\u001b[39m.\u001b[39;49marray(\u001b[39mself\u001b[39;49m)\n",
      "\u001b[0;31mMemoryError\u001b[0m: Unable to allocate 27.2 GiB for an array with shape (50000, 146076) and data type float32"
     ]
    },
    {
     "ename": "",
     "evalue": "",
     "output_type": "error",
     "traceback": [
      "\u001b[1;31mThe Kernel crashed while executing code in the the current cell or a previous cell. Please review the code in the cell(s) to identify a possible cause of the failure. Click <a href='https://aka.ms/vscodeJupyterKernelCrash'>here</a> for more info. View Jupyter <a href='command:jupyter.viewOutput'>log</a> for further details."
     ]
    }
   ],
   "source": [
    "atac.var = sub_atac.var"
   ]
  },
  {
   "cell_type": "code",
   "execution_count": 14,
   "id": "fcd1a387",
   "metadata": {},
   "outputs": [],
   "source": [
    "nx.write_graphml(guidance, \"guidance_graph_\"+atac_name+\"_\"+rna_name+\"_\"+date+\".graphml.gz\")"
   ]
  },
  {
   "cell_type": "code",
   "execution_count": null,
   "id": "0e368cfe",
   "metadata": {},
   "outputs": [],
   "source": [
    "\n",
    "scglue.data.lsi(atac,n_components=100) # This might take up too much space. If so, preprocess on a node using (xx-glue-preprocessing.py)"
   ]
  },
  {
   "cell_type": "code",
   "execution_count": null,
   "id": "2948534d",
   "metadata": {},
   "outputs": [],
   "source": [
    "rna.write(\"preprocessed_\"+rna_name+\"_\"+date+\".h5ad\", compression=\"gzip\")"
   ]
  },
  {
   "cell_type": "code",
   "execution_count": null,
   "id": "9c5565eb",
   "metadata": {},
   "outputs": [],
   "source": [
    "atac.write('preprocessed_'+atac_name+'_'+date+\".h5ad\", compression=\"gzip\")\n",
    "try:\n",
    "    rna.write(\"preprocessed_\"+rna_name+\"_\"+date+\".h5ad\", compression=\"gzip\")\n",
    "except:\n",
    "    rna.var = rna.var.drop(columns='artif_dupl')\n",
    "    rna.write(\"preprocessed_\"+rna_name+\"_\"+date+\".h5ad\", compression=\"gzip\")\n",
    "    "
   ]
  },
  {
   "cell_type": "code",
   "execution_count": null,
   "id": "e664af02",
   "metadata": {},
   "outputs": [],
   "source": [
    "rna"
   ]
  },
  {
   "cell_type": "code",
   "execution_count": null,
   "id": "53ec2705",
   "metadata": {},
   "outputs": [],
   "source": [
    "atac"
   ]
  },
  {
   "cell_type": "code",
   "execution_count": null,
   "id": "05583ea8",
   "metadata": {},
   "outputs": [],
   "source": []
  },
  {
   "cell_type": "code",
   "execution_count": null,
   "id": "64579000",
   "metadata": {},
   "outputs": [],
   "source": []
  }
 ],
 "metadata": {
  "kernelspec": {
   "display_name": "Python 3 (ipykernel)",
   "language": "python",
   "name": "python3"
  }
 },
 "nbformat": 4,
 "nbformat_minor": 5
}
