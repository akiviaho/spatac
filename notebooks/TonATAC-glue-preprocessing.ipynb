{
 "cells": [
  {
   "cell_type": "code",
   "execution_count": null,
   "id": "0b3ecf14",
   "metadata": {},
   "outputs": [],
   "source": [
    "import anndata as ad\n",
    "import networkx as nx\n",
    "import scanpy as sc\n",
    "import pandas as pd\n",
    "import numpy as np\n",
    "import scglue\n",
    "from matplotlib import rcParams\n",
    "import os\n",
    "os.chdir('/lustre/scratch/kiviaho/spatac/integrations/tonsilatlas/actual_scatac_to_spatial')\n",
    "date = '20221215'\n",
    "multiple_experiments = False"
   ]
  },
  {
   "cell_type": "code",
   "execution_count": null,
   "id": "9c536bac",
   "metadata": {},
   "outputs": [],
   "source": [
    "rna_name = 'actual_spatial_rna'\n",
    "atac_name = 'simulated_spots_atac'\n",
    "\n",
    "rna = ad.read_h5ad(rna_name+'.h5ad')\n",
    "atac = ad.read_h5ad(atac_name + '.h5ad')\n",
    "\n",
    "# Copy raw counts into X, only if \n",
    "# For single cell\n",
    "#rna.X = rna.raw.X.copy()\n",
    "#atac.X = atac.raw.X.copy()\n",
    "\n",
    "# For simulated data\n",
    "rna.layers['counts'] = rna.X.copy()\n",
    "atac.layers['counts'] = atac.X.copy()"
   ]
  },
  {
   "cell_type": "code",
   "execution_count": null,
   "id": "a6c3ef98",
   "metadata": {},
   "outputs": [],
   "source": [
    "scglue.data.get_gene_annotation(\n",
    "    rna, gtf='../../../gencode.v42.annotation.gtf.gz',\n",
    "    gtf_by=\"gene_name\"\n",
    ")"
   ]
  },
  {
   "cell_type": "code",
   "execution_count": null,
   "id": "f86a318d",
   "metadata": {},
   "outputs": [],
   "source": [
    "# Drop unannotated genes:\n",
    "rna = rna[:,~rna.var.index.duplicated(keep='first')]\n",
    "rna = rna[:,rna.var.dropna(subset=['chrom','chromStart','chromEnd']).index]"
   ]
  },
  {
   "cell_type": "code",
   "execution_count": null,
   "id": "4fe636f6",
   "metadata": {},
   "outputs": [],
   "source": [
    "rna.var['chrom'] = rna.var['chrom'].astype(str).copy()\n",
    "rna.var['chromStart'] = rna.var['chromStart'].astype(int).copy()\n",
    "rna.var['chromEnd'] = rna.var['chromEnd'].astype(int).copy()"
   ]
  },
  {
   "cell_type": "code",
   "execution_count": null,
   "id": "378e3d76",
   "metadata": {},
   "outputs": [],
   "source": [
    "sc.pp.highly_variable_genes(rna, n_top_genes=2000, flavor=\"seurat_v3\",span=1)\n",
    "sc.pp.normalize_total(rna)\n",
    "sc.pp.log1p(rna)\n",
    "sc.pp.scale(rna)\n",
    "sc.tl.pca(rna, n_comps=100, svd_solver=\"auto\")"
   ]
  },
  {
   "cell_type": "code",
   "execution_count": null,
   "id": "2f293808",
   "metadata": {},
   "outputs": [],
   "source": [
    "# Drop peak locations with zero peaks\n",
    "atac = atac[:,~(atac.X.sum(axis=0)==0)]\n",
    "\n",
    "# Extract coordinates\n",
    "atac.var.rename(columns={'seqnames':'chrom','start':'chromStart','end':'chromEnd'},inplace=True) # just rename existing columns !b\n",
    "\n",
    "\"\"\" split = atac.var_names.str.split(r\"[:-]\")\n",
    "stacked_split = np.vstack(split).astype(str)\n",
    "var_metadata = atac.var.copy()\n",
    "chrom_info = pd.DataFrame({'chrom':stacked_split[:,0],\n",
    "'chromStart':stacked_split[:,1],\n",
    "'chromEnd':stacked_split[:,2]})\n",
    "chrom_info.index = var_metadata.index\n",
    "var_metadata = pd.concat([var_metadata,chrom_info],axis=1) \"\"\""
   ]
  },
  {
   "cell_type": "code",
   "execution_count": null,
   "id": "a36e6a80",
   "metadata": {},
   "outputs": [],
   "source": [
    "\n",
    "# Moved guidance graph construction to BEFORE lsi calculation, since it should be using HVGs (which it gets from the RNA)\n",
    "guidance = scglue.genomics.rna_anchored_guidance_graph(rna, atac)\n",
    "scglue.graph.check_graph(guidance, [rna, atac])\n",
    "nx.write_graphml(guidance, \"guidance_graph_\"+atac_name+\"_\"+rna_name+\"_\"+date+\".graphml.gz\")"
   ]
  },
  {
   "cell_type": "code",
   "execution_count": null,
   "id": "0e3b3f1c",
   "metadata": {},
   "outputs": [],
   "source": [
    "sub_atac = atac[:5]\n",
    "sub_rna = rna[:5]\n",
    "# For some weird reason atac var column names revert back to the old ones. Correct them\n",
    "sub_atac.var.rename(columns={'seqnames':'chrom','start':'chromStart','end':'chromEnd'},inplace=True) # \n",
    "sub_atac.var['chrom'] = sub_atac.var['chrom'].astype(str).copy()\n",
    "sub_atac.var['chromStart'] = sub_atac.var['chromStart'].astype(int).copy()\n",
    "sub_atac.var['chromEnd'] = sub_atac.var['chromEnd'].astype(int).copy()"
   ]
  },
  {
   "cell_type": "code",
   "execution_count": null,
   "id": "34d561dd",
   "metadata": {},
   "outputs": [],
   "source": [
    "\n",
    "# Moved guidance graph construction to BEFORE lsi calculation, since it should be using HVGs (which it gets from the RNA)\n",
    "guidance = scglue.genomics.rna_anchored_guidance_graph(sub_rna, sub_atac)\n",
    "scglue.graph.check_graph(guidance, [sub_rna, sub_atac])\n",
    "nx.write_graphml(guidance, \"guidance_graph_\"+atac_name+\"_\"+rna_name+\"_\"+date+\".graphml.gz\")"
   ]
  },
  {
   "cell_type": "code",
   "execution_count": null,
   "id": "e43911d6",
   "metadata": {},
   "outputs": [],
   "source": [
    "atac.var = sub_atac.var.copy()"
   ]
  },
  {
   "cell_type": "code",
   "execution_count": null,
   "id": "fcd1a387",
   "metadata": {},
   "outputs": [],
   "source": [
    "nx.write_graphml(guidance, \"guidance_graph_\"+atac_name+\"_\"+rna_name+\"_\"+date+\".graphml.gz\")"
   ]
  },
  {
   "cell_type": "code",
   "execution_count": null,
   "id": "0e368cfe",
   "metadata": {},
   "outputs": [],
   "source": [
    "\n",
    "scglue.data.lsi(atac,n_components=100) # This might take up too much space. If so, preprocess on a node using (xx-glue-preprocessing.py)"
   ]
  },
  {
   "cell_type": "code",
   "execution_count": null,
   "id": "2948534d",
   "metadata": {},
   "outputs": [],
   "source": [
    "rna.write(\"preprocessed_\"+rna_name+\"_\"+date+\".h5ad\", compression=\"gzip\")"
   ]
  },
  {
   "cell_type": "code",
   "execution_count": null,
   "id": "9c5565eb",
   "metadata": {},
   "outputs": [],
   "source": [
    "atac.write('preprocessed_'+atac_name+'_'+date+\".h5ad\", compression=\"gzip\")\n",
    "try:\n",
    "    rna.write(\"preprocessed_\"+rna_name+\"_\"+date+\".h5ad\", compression=\"gzip\")\n",
    "except:\n",
    "    rna.var = rna.var.drop(columns='artif_dupl')\n",
    "    rna.write(\"preprocessed_\"+rna_name+\"_\"+date+\".h5ad\", compression=\"gzip\")\n",
    "    "
   ]
  },
  {
   "cell_type": "code",
   "execution_count": null,
   "id": "e664af02",
   "metadata": {},
   "outputs": [],
   "source": [
    "rna"
   ]
  },
  {
   "cell_type": "code",
   "execution_count": null,
   "id": "53ec2705",
   "metadata": {},
   "outputs": [],
   "source": [
    "atac"
   ]
  },
  {
   "cell_type": "code",
   "execution_count": null,
   "id": "05583ea8",
   "metadata": {},
   "outputs": [],
   "source": []
  },
  {
   "cell_type": "code",
   "execution_count": null,
   "id": "64579000",
   "metadata": {},
   "outputs": [],
   "source": []
  }
 ],
 "metadata": {
  "kernelspec": {
   "display_name": "Python 3 (ipykernel)",
   "language": "python",
   "name": "python3"
  },
  "language_info": {
   "codemirror_mode": {
    "name": "ipython",
    "version": 3
   },
   "file_extension": ".py",
   "mimetype": "text/x-python",
   "name": "python",
   "nbconvert_exporter": "python",
   "pygments_lexer": "ipython3",
   "version": "3.8.13"
  }
 },
 "nbformat": 4,
 "nbformat_minor": 5
}
