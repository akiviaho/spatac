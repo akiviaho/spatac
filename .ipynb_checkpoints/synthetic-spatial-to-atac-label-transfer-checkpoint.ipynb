{
 "cells": [
  {
   "cell_type": "code",
   "execution_count": 1,
   "id": "4f1f10ec",
   "metadata": {},
   "outputs": [],
   "source": [
    "import os \n",
    "from itertools import chain\n",
    "import time\n",
    "\n",
    "\n",
    "import anndata as ad\n",
    "import itertools\n",
    "import pandas as pd\n",
    "import scanpy as sc\n",
    "import seaborn as sns\n",
    "import matplotlib.pyplot as plt\n",
    "from matplotlib import rcParams\n",
    "import numpy as np\n",
    "import scglue\n",
    "import networkx as nx\n",
    "import scipy\n",
    "\n",
    "os.chdir('/lustre/scratch/kiviaho/spatac/')\n",
    "\n",
    "date = 20220928\n",
    "sp_data_folder ='synthetic-spatial/'"
   ]
  },
  {
   "cell_type": "code",
   "execution_count": 2,
   "id": "53544dc3",
   "metadata": {},
   "outputs": [
    {
     "name": "stdout",
     "output_type": "stream",
     "text": [
      "[INFO] autodevice: Using CPU as computation device.\n"
     ]
    },
    {
     "name": "stderr",
     "output_type": "stream",
     "text": [
      "/tmp/ipykernel_30456/686297658.py:19: ImplicitModificationWarning: Trying to modify attribute `.var` of view, initializing view as actual.\n",
      "  synthetic_spatial_atac_data.var['highly_variable'] = shareseq_atac.var['highly_variable']\n"
     ]
    }
   ],
   "source": [
    "# Highly variable genes have been determined in GLUE preprocessing (PCA,LSI)\n",
    "# HVG labels have been transferred from RNA data to ATAC data by overlap with the gene region.\n",
    "# The decoder only decodes these genes onto the new domain\n",
    "\n",
    "# Download one spatial experiment\n",
    "experiment = 'exper0'\n",
    "\n",
    "scglue_model = scglue.models.load_model('glue-results/glue-model-shareseq-synthetic-'+experiment+'.dill')\n",
    "scglue_model.compile()\n",
    "graph = nx.read_graphml('glue-results/synthetic-spatial-shareseq-guidance-hvf-'+experiment+'.graphml.gz')\n",
    "\n",
    "shareseq_atac = ad.read_h5ad('glue-results/atac-synthetic-spatial-shareseq-'+experiment+'-with-glue-embeddings.h5ad')\n",
    "synthetic_spatial_atac_data = ad.read_h5ad('synthetic-spatial/synth_spatial_atac_data_from_cell_counts_20220915_sparse.h5ad')\n",
    "synthetic_spatial_atac_data= synthetic_spatial_atac_data[synthetic_spatial_atac_data.obs.index.str.contains(experiment)]\n",
    "\n",
    "synthetic_spatial_rna_data = ad.read_h5ad('glue-results/rna-synthetic-spatial-shareseq-'+experiment+'-with-glue-embeddings.h5ad')\n",
    "\n",
    "if synthetic_spatial_atac_data.var.equals(shareseq_atac.var.drop(columns=['highly_variable','chromStart'])):\n",
    "    synthetic_spatial_atac_data.var['highly_variable'] = shareseq_atac.var['highly_variable']\n",
    "    \n",
    "spatial_atac_ground_truth = synthetic_spatial_atac_data[synthetic_spatial_atac_data.obs.index.str.contains(experiment)]\n",
    "spatial_atac_ground_truth = spatial_atac_ground_truth[:,spatial_atac_ground_truth.var['highly_variable']==True]\n",
    "sp_atac_gt_np = spatial_atac_ground_truth.X.toarray()\n",
    "\n",
    "avg_cells_per_location = np.ceil(np.mean(spatial_atac_ground_truth.obs.sum(axis=1))).astype(int)\n",
    "    "
   ]
  },
  {
   "cell_type": "code",
   "execution_count": 3,
   "id": "14c89ebe",
   "metadata": {},
   "outputs": [],
   "source": [
    "inferred_atac = np.empty((synthetic_spatial_rna_data.shape[0],shareseq_atac.shape[1]))\n",
    "\n",
    "for i,spatial_loc in enumerate(synthetic_spatial_rna_data.obsm['X_glue']):\n",
    "    euclideans = []\n",
    "    \n",
    "    # Calculate euclidean distances between a given spatial location and an atac cell\n",
    "    for atac_cell in shareseq_atac.obsm['X_glue']:\n",
    "        euclideans.append(np.linalg.norm(spatial_loc-atac_cell))\n",
    "\n",
    "    # Extract closest matches and aggregate their ATAC signal to get an\n",
    "    # approximate spatial atac signal\n",
    "    idxs = np.argsort(euclideans)[:avg_cells_per_location]\n",
    "    aggregate_atac_signal = shareseq_atac[idxs].X.toarray().sum(axis=0)\n",
    "    inferred_atac[i] = aggregate_atac_signal\n"
   ]
  },
  {
   "cell_type": "code",
   "execution_count": 4,
   "id": "18fe7d1e",
   "metadata": {},
   "outputs": [],
   "source": [
    "atac_gt_hvgs = synthetic_spatial_atac_data[:,synthetic_spatial_atac_data.var['highly_variable'] ==True].X.toarray()\n",
    "atac_inferred_hvgs = inferred_atac[:,np.where(synthetic_spatial_atac_data.var.highly_variable)[0]]"
   ]
  },
  {
   "cell_type": "code",
   "execution_count": 14,
   "id": "6cb3ecc0",
   "metadata": {},
   "outputs": [
    {
     "data": {
      "text/plain": [
       "Text(0.5, 0, 'Proportion of zero entries')"
      ]
     },
     "execution_count": 14,
     "metadata": {},
     "output_type": "execute_result"
    },
    {
     "data": {
      "image/png": "[encoded data removed]",
      "text/plain": [
       "<Figure size 432x288 with 2 Axes>"
      ]
     },
     "metadata": {
      "needs_background": "light"
     },
     "output_type": "display_data"
    }
   ],
   "source": [
    "# Plot the proportion of peaks with 0 entries for ground truth data\n",
    "lst = []\n",
    "for i in range(len(atac_gt_hvgs)):\n",
    "    lst.append((atac_gt_hvgs[i] == 0).sum()/len(atac_gt_hvgs[i]))\n",
    "    \n",
    "lst2 = []\n",
    "for i in range(len(atac_gt_hvgs)):\n",
    "    lst2.append((atac_inferred_hvgs[i] == 0).sum()/len(atac_inferred_hvgs[i]))\n",
    "    \n",
    "fig, ax =plt.subplots(2,1)\n",
    "sns.histplot(lst,ax=ax[0])\n",
    "plt.xlabel('Proportion of zero entries')\n",
    "fig.suptitle('Zero entries in ground truth (upper) and inferred (lower) spatial ATAC', fontsize=12)\n",
    "\n",
    "sns.histplot(lst2,ax=ax[1])\n",
    "plt.xlabel('Proportion of zero entries')"
   ]
  },
  {
   "cell_type": "code",
   "execution_count": 129,
   "id": "c0fd1e34",
   "metadata": {},
   "outputs": [
    {
     "data": {
      "text/plain": [
       "<AxesSubplot:ylabel='Count'>"
      ]
     },
     "execution_count": 129,
     "metadata": {},
     "output_type": "execute_result"
    },
    {
     "data": {
      "image/png": "[encoded data removed]",
      "text/plain": [
       "<Figure size 432x288 with 1 Axes>"
      ]
     },
     "metadata": {
      "needs_background": "light"
     },
     "output_type": "display_data"
    }
   ],
   "source": [
    "# Plot the proportion of peaks with 0 entries for synthetic ATAC data\n",
    "lst = []\n",
    "for i in range(len(atac_gt_hvgs)):\n",
    "    lst.append((atac_inferred_hvgs[i] == 0).sum()/len(atac_inferred_hvgs[i]))\n",
    "    \n",
    "sns.histplot(lst)\n",
    "plt.xlab('Proportion of zero entries')\n",
    "plt.title('Zero entries in inferred spatial ATAC')"
   ]
  },
  {
   "cell_type": "code",
   "execution_count": 15,
   "id": "390681fe",
   "metadata": {},
   "outputs": [],
   "source": [
    "# Plotting percentage of matching non-zero entries in ground truth and inferred ATAC data:\n",
    "per_matching_matched = list()\n",
    "\n",
    "for i in range(atac_inferred_hvgs.shape[0]):\n",
    "    inferred_non_zeros = np.where(atac_inferred_hvgs[i]!=0)[0]\n",
    "    ground_truth_non_zeros = np.where(atac_gt_hvgs[i]!=0)[0]\n",
    "    max_intersect_length = np.array([inferred_non_zeros.shape[0],ground_truth_non_zeros.shape[0]]).min()\n",
    "\n",
    "    per_matching_matched.append(len(np.intersect1d(inferred_non_zeros,ground_truth_non_zeros))/max_intersect_length)\n"
   ]
  },
  {
   "cell_type": "code",
   "execution_count": 16,
   "id": "f72a1756",
   "metadata": {},
   "outputs": [],
   "source": [
    "# Plotting just randomly paired cells to see if those look similiar\n",
    "per_matching_random = list()\n",
    "\n",
    "for i in range(atac_inferred_hvgs.shape[0]):\n",
    "    inferred_non_zeros = np.where(atac_inferred_hvgs[i]!=0)[0]\n",
    "\n",
    "    # Picking a random location to see if it's similar to the above\n",
    "    ground_truth_non_zeros = np.where(atac_gt_hvgs[np.random.choice(atac_inferred_hvgs.shape[0],1)[0]]!=0)[0]\n",
    "    max_intersect_length = np.array([inferred_non_zeros.shape[0],ground_truth_non_zeros.shape[0]]).min()\n",
    "\n",
    "    per_matching_random.append(len(np.intersect1d(inferred_non_zeros,ground_truth_non_zeros))/max_intersect_length)\n",
    "    \n"
   ]
  },
  {
   "cell_type": "code",
   "execution_count": 19,
   "id": "e4e6fb7d",
   "metadata": {},
   "outputs": [
    {
     "data": {
      "text/plain": [
       "Text(0.5, 0, 'Proportion of matching non-zero entries')"
      ]
     },
     "execution_count": 19,
     "metadata": {},
     "output_type": "execute_result"
    },
    {
     "data": {
      "image/png": "[encoded data removed]",
      "text/plain": [
       "<Figure size 432x288 with 2 Axes>"
      ]
     },
     "metadata": {
      "needs_background": "light"
     },
     "output_type": "display_data"
    }
   ],
   "source": [
    "fig, ax =plt.subplots(2,1)\n",
    "    \n",
    "sns.histplot(per_matching_matched,ax=ax[0])\n",
    "ax[0].axvline(np.mean(per_matching_matched),color='r')\n",
    "\n",
    "fig.suptitle('Matching non-zero entries in matched (upper) and random (lower) spatial locations', fontsize=12)\n",
    "\n",
    "sns.histplot(per_matching_random,ax=ax[1])\n",
    "ax[1].axvline(np.mean(per_matching_random),color='r')\n",
    "plt.xlabel('Proportion of matching non-zero entries')"
   ]
  },
  {
   "cell_type": "code",
   "execution_count": null,
   "id": "5beefa8c",
   "metadata": {},
   "outputs": [],
   "source": []
  }
 ],
 "metadata": {
  "kernelspec": {
   "display_name": "Python 3 (ipykernel)",
   "language": "python",
   "name": "python3"
  },
  "language_info": {
   "codemirror_mode": {
    "name": "ipython",
    "version": 3
   },
   "file_extension": ".py",
   "mimetype": "text/x-python",
   "name": "python",
   "nbconvert_exporter": "python",
   "pygments_lexer": "ipython3",
   "version": "3.8.13"
  }
 },
 "nbformat": 4,
 "nbformat_minor": 5
}
