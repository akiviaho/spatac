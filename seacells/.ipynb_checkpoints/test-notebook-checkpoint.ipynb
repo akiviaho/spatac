{
 "cells": [
  {
   "cell_type": "code",
   "execution_count": 1,
   "id": "6adb16e0",
   "metadata": {},
   "outputs": [
    {
     "name": "stderr",
     "output_type": "stream",
     "text": [
      "findfont: Font family ['Raleway'] not found. Falling back to DejaVu Sans.\n",
      "findfont: Font family ['Lato'] not found. Falling back to DejaVu Sans.\n"
     ]
    }
   ],
   "source": [
    "import warnings\n",
    "\n",
    "warnings.filterwarnings( \"ignore\", module = \"matplotlib\\..*\" )\n",
    "\n",
    "import numpy as np\n",
    "import pandas as pd\n",
    "import scanpy as sc\n",
    "sc.settings.verbosity = 0\n",
    "import SEACells\n",
    "\n",
    "import matplotlib\n",
    "from matplotlib import pyplot as plt\n",
    "import seaborn as sns\n",
    "\n",
    "# Peaks data\n",
    "from scipy.io import mmread\n",
    "\n",
    "%matplotlib inline\n",
    "\n",
    "sns.set_style('ticks')\n",
    "matplotlib.rcParams['figure.figsize'] = [4, 4]\n",
    "matplotlib.rcParams['figure.dpi'] = 100\n",
    "\n",
    "sc.set_figure_params(figsize=(10,10),dpi=120)"
   ]
  },
  {
   "cell_type": "code",
   "execution_count": null,
   "id": "3d33ca1f",
   "metadata": {},
   "outputs": [],
   "source": []
  },
  {
   "cell_type": "code",
   "execution_count": null,
   "id": "46952ca3",
   "metadata": {},
   "outputs": [],
   "source": [
    "rna = sc.read_h5ad('../data/seacells-rna-multiome10x-mouse.h5ad')\n",
    "atac = sc.read_h5ad('../data/seacells-atac-multiome10x-mouse.h5ad')\n",
    "atac_meta_ad = sc.read_h5ad('../data/seacell-meta-atac-multiome10x-mouse.h5ad')\n",
    "rna_meta_ad  = sc.read_h5ad('../data/seacell-meta-rna-multiome10x-mouse.h5ad')"
   ]
  }
 ],
 "metadata": {
  "kernelspec": {
   "display_name": "Python 3 (ipykernel)",
   "language": "python",
   "name": "python3"
  },
  "language_info": {
   "codemirror_mode": {
    "name": "ipython",
    "version": 3
   },
   "file_extension": ".py",
   "mimetype": "text/x-python",
   "name": "python",
   "nbconvert_exporter": "python",
   "pygments_lexer": "ipython3",
   "version": "3.8.13"
  }
 },
 "nbformat": 4,
 "nbformat_minor": 5
}
